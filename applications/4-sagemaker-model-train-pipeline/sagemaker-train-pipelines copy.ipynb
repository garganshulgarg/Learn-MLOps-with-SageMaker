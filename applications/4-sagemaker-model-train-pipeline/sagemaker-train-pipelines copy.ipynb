{
 "cells": [
  {
   "cell_type": "markdown",
   "id": "f1988810-3867-44f1-a6e2-057ec98d3cd0",
   "metadata": {
    "editable": true,
    "slideshow": {
     "slide_type": ""
    },
    "tags": []
   },
   "source": [
    "# Sagemaker Training Pipelines"
   ]
  },
  {
   "cell_type": "markdown",
   "id": "98345f96-5c61-4950-981c-7d34b41248a9",
   "metadata": {
    "editable": true,
    "slideshow": {
     "slide_type": ""
    },
    "tags": []
   },
   "source": [
    "## Overview of ML Workflow\n",
    "\n",
    "In this notebook, we outline the key steps in the machine learning workflow using Amazon SageMaker. The process involves training an XGBoost model with the following steps:\n",
    "\n",
    "1. **Data Preprocessing:** The raw data is cleaned and transformed to create features, and then it is split into training, validation, and test datasets.\n",
    "2. **Hyperparameter Tuning:** The model's hyperparameters are tuned using SageMaker's XGBoost framework to find the best-performing model, with the AUC score as the metric for evaluation.\n",
    "3. **Model Evaluation:** The trained model is evaluated using the test dataset, and the AUC score is compared against a predefined threshold to assess performance.\n",
    "4. **Model Registration:** If the model meets the threshold AUC score, it is registered in the SageMaker model registry for further use in deployment.\n",
    "\n",
    "This notebook walks through the process of setting up, training, and evaluating the model, ensuring that we achieve optimal performance before registering it for deployment."
   ]
  },
  {
   "cell_type": "markdown",
   "id": "79199a9b-60b2-4e9a-9281-c3290a20a1ad",
   "metadata": {
    "editable": true,
    "slideshow": {
     "slide_type": ""
    },
    "tags": []
   },
   "source": [
    "#### Installing Required Libraries"
   ]
  },
  {
   "cell_type": "code",
   "execution_count": 1,
   "id": "d8b25673-54e1-46a4-b41f-f6678723ba13",
   "metadata": {
    "editable": true,
    "slideshow": {
     "slide_type": ""
    },
    "tags": []
   },
   "outputs": [
    {
     "name": "stdout",
     "output_type": "stream",
     "text": [
      "Requirement already satisfied: boto3 in /opt/conda/lib/python3.11/site-packages (1.34.162)\n",
      "Collecting boto3\n",
      "  Downloading boto3-1.35.63-py3-none-any.whl.metadata (6.7 kB)\n",
      "Collecting botocore<1.36.0,>=1.35.63 (from boto3)\n",
      "  Downloading botocore-1.35.63-py3-none-any.whl.metadata (5.7 kB)\n",
      "Requirement already satisfied: jmespath<2.0.0,>=0.7.1 in /opt/conda/lib/python3.11/site-packages (from boto3) (1.0.1)\n",
      "Requirement already satisfied: s3transfer<0.11.0,>=0.10.0 in /opt/conda/lib/python3.11/site-packages (from boto3) (0.10.3)\n",
      "Requirement already satisfied: python-dateutil<3.0.0,>=2.1 in /opt/conda/lib/python3.11/site-packages (from botocore<1.36.0,>=1.35.63->boto3) (2.9.0)\n",
      "Requirement already satisfied: urllib3!=2.2.0,<3,>=1.25.4 in /opt/conda/lib/python3.11/site-packages (from botocore<1.36.0,>=1.35.63->boto3) (1.26.19)\n",
      "Requirement already satisfied: six>=1.5 in /opt/conda/lib/python3.11/site-packages (from python-dateutil<3.0.0,>=2.1->botocore<1.36.0,>=1.35.63->boto3) (1.16.0)\n",
      "Downloading boto3-1.35.63-py3-none-any.whl (139 kB)\n",
      "Downloading botocore-1.35.63-py3-none-any.whl (12.8 MB)\n",
      "\u001b[2K   \u001b[90m━━━━━━━━━━━━━━━━━━━━━━━━━━━━━━━━━━━━━━━━\u001b[0m \u001b[32m12.8/12.8 MB\u001b[0m \u001b[31m147.3 MB/s\u001b[0m eta \u001b[36m0:00:00\u001b[0m\n",
      "\u001b[?25hInstalling collected packages: botocore, boto3\n",
      "  Attempting uninstall: botocore\n",
      "    Found existing installation: botocore 1.34.162\n",
      "    Uninstalling botocore-1.34.162:\n",
      "      Successfully uninstalled botocore-1.34.162\n",
      "  Attempting uninstall: boto3\n",
      "    Found existing installation: boto3 1.34.162\n",
      "    Uninstalling boto3-1.34.162:\n",
      "      Successfully uninstalled boto3-1.34.162\n",
      "\u001b[31mERROR: pip's dependency resolver does not currently take into account all the packages that are installed. This behaviour is the source of the following dependency conflicts.\n",
      "autogluon-multimodal 1.1.1 requires nvidia-ml-py3==7.352.0, which is not installed.\n",
      "aiobotocore 2.13.3 requires botocore<1.34.163,>=1.34.70, but you have botocore 1.35.63 which is incompatible.\n",
      "amazon-sagemaker-sql-magic 0.1.3 requires sqlparse==0.5.0, but you have sqlparse 0.5.1 which is incompatible.\n",
      "autogluon-core 1.1.1 requires scikit-learn<1.4.1,>=1.3.0, but you have scikit-learn 1.5.2 which is incompatible.\n",
      "autogluon-core 1.1.1 requires scipy<1.13,>=1.5.4, but you have scipy 1.14.1 which is incompatible.\n",
      "autogluon-features 1.1.1 requires scikit-learn<1.4.1,>=1.3.0, but you have scikit-learn 1.5.2 which is incompatible.\n",
      "autogluon-multimodal 1.1.1 requires jsonschema<4.22,>=4.18, but you have jsonschema 4.23.0 which is incompatible.\n",
      "autogluon-multimodal 1.1.1 requires omegaconf<2.3.0,>=2.1.1, but you have omegaconf 2.3.0 which is incompatible.\n",
      "autogluon-multimodal 1.1.1 requires scikit-learn<1.4.1,>=1.3.0, but you have scikit-learn 1.5.2 which is incompatible.\n",
      "autogluon-multimodal 1.1.1 requires scipy<1.13,>=1.5.4, but you have scipy 1.14.1 which is incompatible.\n",
      "autogluon-multimodal 1.1.1 requires torch<2.4,>=2.2, but you have torch 2.4.1.post100 which is incompatible.\n",
      "autogluon-tabular 1.1.1 requires scikit-learn<1.4.1,>=1.3.0, but you have scikit-learn 1.5.2 which is incompatible.\n",
      "autogluon-tabular 1.1.1 requires scipy<1.13,>=1.5.4, but you have scipy 1.14.1 which is incompatible.\n",
      "autogluon-timeseries 1.1.1 requires gluonts==0.15.1, but you have gluonts 0.14.3 which is incompatible.\n",
      "autogluon-timeseries 1.1.1 requires scipy<1.13,>=1.5.4, but you have scipy 1.14.1 which is incompatible.\n",
      "autogluon-timeseries 1.1.1 requires torch<2.4,>=2.2, but you have torch 2.4.1.post100 which is incompatible.\n",
      "langchain-aws 0.1.18 requires boto3<1.35.0,>=1.34.131, but you have boto3 1.35.63 which is incompatible.\u001b[0m\u001b[31m\n",
      "\u001b[0mSuccessfully installed boto3-1.35.63 botocore-1.35.63\n",
      "Collecting openpyxl\n",
      "  Downloading openpyxl-3.1.5-py2.py3-none-any.whl.metadata (2.5 kB)\n",
      "Collecting et-xmlfile (from openpyxl)\n",
      "  Downloading et_xmlfile-2.0.0-py3-none-any.whl.metadata (2.7 kB)\n",
      "Downloading openpyxl-3.1.5-py2.py3-none-any.whl (250 kB)\n",
      "Downloading et_xmlfile-2.0.0-py3-none-any.whl (18 kB)\n",
      "Installing collected packages: et-xmlfile, openpyxl\n",
      "Successfully installed et-xmlfile-2.0.0 openpyxl-3.1.5\n",
      "Collecting diagrams\n",
      "  Downloading diagrams-0.24.1-py3-none-any.whl.metadata (6.9 kB)\n",
      "Requirement already satisfied: graphviz<0.21.0,>=0.13.2 in /opt/conda/lib/python3.11/site-packages (from diagrams) (0.20.3)\n",
      "Requirement already satisfied: jinja2<4.0,>=2.10 in /opt/conda/lib/python3.11/site-packages (from diagrams) (3.1.4)\n",
      "Requirement already satisfied: MarkupSafe>=2.0 in /opt/conda/lib/python3.11/site-packages (from jinja2<4.0,>=2.10->diagrams) (3.0.2)\n",
      "Downloading diagrams-0.24.1-py3-none-any.whl (25.1 MB)\n",
      "\u001b[2K   \u001b[90m━━━━━━━━━━━━━━━━━━━━━━━━━━━━━━━━━━━━━━━━\u001b[0m \u001b[32m25.1/25.1 MB\u001b[0m \u001b[31m102.7 MB/s\u001b[0m eta \u001b[36m0:00:00\u001b[0m00:01\u001b[0m\n",
      "\u001b[?25hInstalling collected packages: diagrams\n",
      "Successfully installed diagrams-0.24.1\n"
     ]
    }
   ],
   "source": [
    "# Install or upgrade the boto3 library, which is used to interact with AWS services\n",
    "!pip install --upgrade boto3\n",
    "\n",
    "# Install openpyxl library to work with Excel files\n",
    "!pip install openpyxl\n",
    "\n",
    "# Install diagrams library to help create architecture diagrams\n",
    "!pip install diagrams"
   ]
  },
  {
   "cell_type": "markdown",
   "id": "386ea738-b6ee-4e4d-9771-5515c042eee0",
   "metadata": {
    "editable": true,
    "slideshow": {
     "slide_type": ""
    },
    "tags": []
   },
   "source": [
    "#### High-Level ML Workflow Architecture"
   ]
  },
  {
   "cell_type": "markdown",
   "id": "58ef5295-0f92-48df-a695-f9574aa31292",
   "metadata": {
    "editable": true,
    "slideshow": {
     "slide_type": ""
    },
    "tags": []
   },
   "source": [
    "This diagram represents the high-level architecture of the machine learning workflow. The workflow consists of several key steps to train the model efficiently using Amazon SageMaker.\n",
    "\n",
    "The **Train Pipeline** includes the following steps:\n",
    "\n",
    "1. **Preprocess Data:** The first step involves preprocessing the raw data to build the necessary features and split it into train, validation, and test datasets.\n",
    "2. **Hyperparameter Tuning:** This step involves tuning the model’s hyperparameters using the SageMaker XGBoost framework, aiming to find the best model based on the highest AUC score.\n",
    "3. **Model Evaluation:** After training, the model is evaluated on the test dataset to ensure it meets the required AUC score, which indicates the model's performance.\n",
    "4. **Model Registration:** If the model's AUC score meets the predefined threshold, it is then registered into the SageMaker model registry for future use."
   ]
  },
  {
   "cell_type": "markdown",
   "id": "b4d4a0c1-227a-40b5-b90b-846b4513b94a",
   "metadata": {
    "editable": true,
    "slideshow": {
     "slide_type": ""
    },
    "tags": []
   },
   "source": [
    "##### ML Workflow Diagram\n",
    "\n",
    "The following diagram illustrates the machine learning workflow, from data storage to model registration, with key steps in the process:"
   ]
  },
  {
   "cell_type": "code",
   "execution_count": 17,
   "id": "de906f08-6361-404e-9ebb-8b962f65b7c5",
   "metadata": {
    "editable": true,
    "slideshow": {
     "slide_type": ""
    },
    "tags": []
   },
   "outputs": [],
   "source": [
    "from diagrams import Diagram, Edge\n",
    "from diagrams.aws.storage import S3\n",
    "from diagrams.aws.ml import Sagemaker\n",
    "from diagrams.aws.management import Cloudwatch\n",
    "\n",
    "with Diagram(\"High-Level ML Workflow Architecture\", show=False, direction=\"LR\"):\n",
    "    # Components\n",
    "    s3 = S3(\"S3 Bucket\")\n",
    "\n",
    "    preprocessing = Sagemaker(\"Preprocess Data\")\n",
    "    tuning = Sagemaker(\"Hyperparameter Tuning\")\n",
    "    evaluation = Sagemaker(\"Model Evaluation\")\n",
    "    condition = Sagemaker(\"Check AUC Score\")\n",
    "    register_model = Sagemaker(\"Register Model\")\n",
    "    model_registry = Sagemaker(\"Model Registry\")\n",
    "\n",
    "    # Workflow\n",
    "    s3 >> preprocessing >> tuning >> evaluation >> condition\n",
    "    condition >> Edge(label=\"AUC > Threshold\") >> register_model >> model_registry\n",
    "\n"
   ]
  },
  {
   "cell_type": "code",
   "execution_count": 18,
   "id": "505f44d8-5bc3-40ba-8565-9ce2a0dc45c1",
   "metadata": {
    "editable": true,
    "slideshow": {
     "slide_type": ""
    },
    "tags": []
   },
   "outputs": [
    {
     "data": {
      "image/png": "[encoded data removed]",
      "text/plain": [
       "<IPython.core.display.Image object>"
      ]
     },
     "execution_count": 18,
     "metadata": {},
     "output_type": "execute_result"
    }
   ],
   "source": [
    "from IPython.display import Image\n",
    "Image(filename=\"high-level_ml_workflow_architecture.png\")"
   ]
  },
  {
   "cell_type": "markdown",
   "id": "5f329806-dd4e-41e9-a928-cce4cea9af46",
   "metadata": {
    "editable": true,
    "slideshow": {
     "slide_type": ""
    },
    "tags": []
   },
   "source": [
    "## Build Pipeline Components"
   ]
  },
  {
   "cell_type": "markdown",
   "id": "449498cb-faa5-4edf-b8cc-480722b78e56",
   "metadata": {
    "editable": true,
    "slideshow": {
     "slide_type": ""
    },
    "tags": []
   },
   "source": [
    "### Pre-requisites"
   ]
  },
  {
   "cell_type": "markdown",
   "id": "64540e6e-b0fe-45c7-88e4-a2606db8a91e",
   "metadata": {
    "editable": true,
    "slideshow": {
     "slide_type": ""
    },
    "tags": []
   },
   "source": [
    "#### Initializing AWS Services and SageMaker Session"
   ]
  },
  {
   "cell_type": "markdown",
   "id": "7434eca6-70a1-4a16-97c2-1ce166b4b119",
   "metadata": {
    "editable": true,
    "slideshow": {
     "slide_type": ""
    },
    "tags": []
   },
   "source": [
    "In this step, we initialize the necessary AWS services and set up the SageMaker session. We create an S3 client to interact with Amazon S3, define the pipeline name, and set up the SageMaker session for interacting with the SageMaker environment. Additionally, we retrieve the execution role, region, and default S3 bucket for storing data and models. These configurations are crucial for running the pipeline and managing resources."
   ]
  },
  {
   "cell_type": "code",
   "execution_count": 4,
   "id": "f8742852-1c02-4ba9-9b41-493986acae68",
   "metadata": {
    "editable": true,
    "slideshow": {
     "slide_type": ""
    },
    "tags": []
   },
   "outputs": [
    {
     "name": "stdout",
     "output_type": "stream",
     "text": [
      "sagemaker.config INFO - Not applying SDK defaults from location: /etc/xdg/sagemaker/config.yaml\n",
      "sagemaker.config INFO - Not applying SDK defaults from location: /home/sagemaker-user/.config/sagemaker/config.yaml\n"
     ]
    }
   ],
   "source": [
    "# Import necessary libraries for AWS and SageMaker operations\n",
    "import boto3\n",
    "import pandas as pd\n",
    "import sagemaker\n",
    "from sagemaker.workflow.pipeline_context import PipelineSession\n",
    "\n",
    "# Initialize the S3 client to interact with S3 buckets\n",
    "s3_client = boto3.resource('s3')\n",
    "\n",
    "# Define the pipeline name for training\n",
    "pipeline_name = f\"sagemaker-mlops-train-pipeline\"\n",
    "\n",
    "# Create a SageMaker session object to interact with SageMaker\n",
    "sagemaker_session = sagemaker.Session()\n",
    "\n",
    "# Get the current region for AWS resources\n",
    "region = sagemaker_session.boto_region_name\n",
    "\n",
    "# Get the execution role for SageMaker to access AWS resources\n",
    "role = sagemaker.get_execution_role()\n",
    "\n",
    "# Initialize a pipeline session object to manage the workflow\n",
    "pipeline_session = PipelineSession()\n",
    "\n",
    "# Get the default S3 bucket for the SageMaker session to store data and models\n",
    "default_bucket = sagemaker_session.default_bucket()\n",
    "\n",
    "# Define the model package group name for version control in the model registry\n",
    "model_package_group_name = f\"ChurnModelPackageGroup\""
   ]
  },
  {
   "cell_type": "markdown",
   "id": "e583b4fb-190b-4517-b2e9-67b8a344e4f9",
   "metadata": {
    "editable": true,
    "slideshow": {
     "slide_type": ""
    },
    "tags": []
   },
   "source": [
    "#### Defining Workflow Parameters"
   ]
  },
  {
   "cell_type": "markdown",
   "id": "768cdb81-73e9-4941-84f5-6c62a4411090",
   "metadata": {
    "editable": true,
    "slideshow": {
     "slide_type": ""
    },
    "tags": []
   },
   "source": [
    "In this step, we define the parameters required for the machine learning workflow. These parameters include the number of processing instances, instance types for training and processing, the input data file, and the model approval status. Additionally, we set a threshold for the AUC score to evaluate the model's performance. These parameters allow us to configure the pipeline dynamically and modify the workflow as needed."
   ]
  },
  {
   "cell_type": "code",
   "execution_count": 5,
   "id": "b4effa0d-4193-403b-a0a0-290f63dbb635",
   "metadata": {
    "editable": true,
    "slideshow": {
     "slide_type": ""
    },
    "tags": []
   },
   "outputs": [],
   "source": [
    "# Import necessary classes for defining parameters in the workflow\n",
    "from sagemaker.workflow.parameters import (\n",
    "    ParameterInteger, \n",
    "    ParameterString, \n",
    "    ParameterFloat\n",
    ")\n",
    "\n",
    "# Set the AUC score threshold for model evaluation\n",
    "auc_score_threshold = 0.75\n",
    "\n",
    "# Define the base job prefix for naming SageMaker jobs\n",
    "base_job_prefix = \"churn-example\"\n",
    "\n",
    "# Define the number of processing instances (default to 1)\n",
    "processing_instance_count = ParameterInteger(name=\"ProcessingInstanceCount\", default_value=1)\n",
    "\n",
    "# Define the instance type for processing (default to 'ml.m5.xlarge')\n",
    "processing_instance_type = ParameterString(name=\"ProcessingInstanceType\", default_value=\"ml.m5.xlarge\")\n",
    "\n",
    "# Define the instance type for training (default to 'ml.m5.xlarge')\n",
    "training_instance_type = ParameterString(name=\"TrainingInstanceType\", default_value=\"ml.m5.xlarge\")\n",
    "\n",
    "# Specify the input data file for the training process\n",
    "input_data = \"storedata_total.csv\"\n",
    "\n",
    "# Define the model approval status (default to 'PendingManualApproval')\n",
    "model_approval_status = ParameterString(name=\"ModelApprovalStatus\", default_value=\"PendingManualApproval\")\n"
   ]
  },
  {
   "cell_type": "markdown",
   "id": "26210b1c-e904-4530-ab2e-1b41168efc4a",
   "metadata": {
    "editable": true,
    "slideshow": {
     "slide_type": ""
    },
    "tags": []
   },
   "source": [
    "### Collect & Prepare Data"
   ]
  },
  {
   "cell_type": "markdown",
   "id": "d04ae31e-1a81-4238-950a-23a89dfd6460",
   "metadata": {
    "editable": true,
    "slideshow": {
     "slide_type": ""
    },
    "tags": []
   },
   "source": [
    "#### Downloading the Dataset"
   ]
  },
  {
   "cell_type": "code",
   "execution_count": null,
   "id": "6f50d94c-5f3e-4f72-b984-bacd7db67c46",
   "metadata": {
    "editable": true,
    "slideshow": {
     "slide_type": ""
    },
    "tags": []
   },
   "outputs": [
    {
     "name": "stdout",
     "output_type": "stream",
     "text": [
      "--2024-11-18 15:20:36--  https://github.com/garganshulgarg/learn-mlops-with-sagemaker/raw/refs/heads/sagemaker-train-pipeline/applications/4-sagemaker-model-train-pipeline/dataset/storedata_total.xlsx\n",
      "Resolving github.com (github.com)... 140.82.114.3\n",
      "Connecting to github.com (github.com)|140.82.114.3|:443... connected.\n",
      "WARNING: cannot verify github.com's certificate, issued by ‘CN=Sectigo ECC Domain Validation Secure Server CA,O=Sectigo Limited,L=Salford,ST=Greater Manchester,C=GB’:\n",
      "  Unable to locally verify the issuer's authority.\n",
      "HTTP request sent, awaiting response... 302 Found\n",
      "Location: https://raw.githubusercontent.com/garganshulgarg/learn-mlops-with-sagemaker/refs/heads/sagemaker-train-pipeline/applications/4-sagemaker-model-train-pipeline/dataset/storedata_total.xlsx [following]\n",
      "--2024-11-18 15:20:36--  https://raw.githubusercontent.com/garganshulgarg/learn-mlops-with-sagemaker/refs/heads/sagemaker-train-pipeline/applications/4-sagemaker-model-train-pipeline/dataset/storedata_total.xlsx\n",
      "Resolving raw.githubusercontent.com (raw.githubusercontent.com)... 185.199.109.133, 185.199.108.133, 185.199.110.133, ...\n",
      "Connecting to raw.githubusercontent.com (raw.githubusercontent.com)|185.199.109.133|:443... connected.\n",
      "WARNING: cannot verify raw.githubusercontent.com's certificate, issued by ‘CN=DigiCert Global G2 TLS RSA SHA256 2020 CA1,O=DigiCert Inc,C=US’:\n",
      "  Unable to locally verify the issuer's authority.\n",
      "HTTP request sent, awaiting response... 200 OK\n",
      "Length: 2713209 (2.6M) [application/octet-stream]\n",
      "Saving to: ‘storedata_total.xlsx’\n",
      "\n",
      "storedata_total.xls 100%[===================>]   2.59M  --.-KB/s    in 0.02s   \n",
      "\n",
      "2024-11-18 15:20:37 (115 MB/s) - ‘storedata_total.xlsx’ saved [2713209/2713209]\n",
      "\n"
     ]
    }
   ],
   "source": [
    "# Use wget to download the dataset from the GitHub repository\n",
    "!wget --no-check-certificate https://github.com/garganshulgarg/learn-mlops-with-sagemaker/raw/refs/heads/main/applications/4-sagemaker-model-train-pipeline/dataset/storedata_total.xlsx"
   ]
  },
  {
   "cell_type": "markdown",
   "id": "1d89b4ad-63ec-465b-898b-98d9b1bd2ec8",
   "metadata": {
    "editable": true,
    "slideshow": {
     "slide_type": ""
    },
    "tags": []
   },
   "source": [
    "#### Converting Excel Data to CSV Format"
   ]
  },
  {
   "cell_type": "markdown",
   "id": "1eb78765-67ee-42d6-8763-819e93de20fd",
   "metadata": {
    "editable": true,
    "slideshow": {
     "slide_type": ""
    },
    "tags": []
   },
   "source": [
    "In this step, we load the Excel dataset using pandas and convert it into a CSV format. This will allow us to work with the data more easily in the SageMaker pipeline, as CSV is a common format for training machine learning models."
   ]
  },
  {
   "cell_type": "code",
   "execution_count": 7,
   "id": "1c097f57-50bc-4da1-8aa3-e18515cb0ef2",
   "metadata": {
    "editable": true,
    "slideshow": {
     "slide_type": ""
    },
    "tags": []
   },
   "outputs": [
    {
     "name": "stderr",
     "output_type": "stream",
     "text": [
      "/opt/conda/lib/python3.11/site-packages/openpyxl/worksheet/_reader.py:329: UserWarning: Unknown extension is not supported and will be removed\n",
      "  warn(msg)\n"
     ]
    }
   ],
   "source": [
    "# Load the dataset from the downloaded Excel file\n",
    "store_data = pd.read_excel(\"storedata_total.xlsx\")\n",
    "\n",
    "# Convert the dataset into a CSV format and save it as \"storedata_total.csv\"\n",
    "store_data.to_csv(\"storedata_total.csv\", index=False)"
   ]
  },
  {
   "cell_type": "markdown",
   "id": "987ffa20-141e-421b-b845-1f160ae6f4a4",
   "metadata": {
    "editable": true,
    "slideshow": {
     "slide_type": ""
    },
    "tags": []
   },
   "source": [
    "### Defining the PreProcessing Step (Preprocess Data) in SageMaker Pipeline"
   ]
  },
  {
   "cell_type": "markdown",
   "id": "44310f81-0621-4b64-a7aa-14a2f0723e35",
   "metadata": {
    "editable": true,
    "slideshow": {
     "slide_type": ""
    },
    "tags": []
   },
   "source": [
    "#### Downloading the Preprocessing Script"
   ]
  },
  {
   "cell_type": "markdown",
   "id": "abd2506b-4930-4637-a57f-a2c05570922c",
   "metadata": {
    "editable": true,
    "slideshow": {
     "slide_type": ""
    },
    "tags": []
   },
   "source": [
    "In this step, we download the preprocessing script (preprocess-churn.py) from the GitHub repository. This script will be used in the preprocessing step of the SageMaker pipeline to transform and prepare the data for model training."
   ]
  },
  {
   "cell_type": "code",
   "execution_count": null,
   "id": "2f88dfb0-6b15-4a22-8615-a86f5ec7f839",
   "metadata": {
    "editable": true,
    "slideshow": {
     "slide_type": ""
    },
    "tags": []
   },
   "outputs": [
    {
     "name": "stdout",
     "output_type": "stream",
     "text": [
      "--2024-11-18 15:20:50--  https://github.com/garganshulgarg/learn-mlops-with-sagemaker/raw/refs/heads/sagemaker-train-pipeline/applications/4-sagemaker-model-train-pipeline/preprocess-churn.py\n",
      "Resolving github.com (github.com)... 140.82.114.3\n",
      "Connecting to github.com (github.com)|140.82.114.3|:443... connected.\n",
      "WARNING: cannot verify github.com's certificate, issued by ‘CN=Sectigo ECC Domain Validation Secure Server CA,O=Sectigo Limited,L=Salford,ST=Greater Manchester,C=GB’:\n",
      "  Unable to locally verify the issuer's authority.\n",
      "HTTP request sent, awaiting response... 302 Found\n",
      "Location: https://raw.githubusercontent.com/garganshulgarg/learn-mlops-with-sagemaker/refs/heads/sagemaker-train-pipeline/applications/4-sagemaker-model-train-pipeline/preprocess-churn.py [following]\n",
      "--2024-11-18 15:20:50--  https://raw.githubusercontent.com/garganshulgarg/learn-mlops-with-sagemaker/refs/heads/sagemaker-train-pipeline/applications/4-sagemaker-model-train-pipeline/preprocess-churn.py\n",
      "Resolving raw.githubusercontent.com (raw.githubusercontent.com)... 185.199.111.133, 185.199.110.133, 185.199.108.133, ...\n",
      "Connecting to raw.githubusercontent.com (raw.githubusercontent.com)|185.199.111.133|:443... connected.\n",
      "WARNING: cannot verify raw.githubusercontent.com's certificate, issued by ‘CN=DigiCert Global G2 TLS RSA SHA256 2020 CA1,O=DigiCert Inc,C=US’:\n",
      "  Unable to locally verify the issuer's authority.\n",
      "HTTP request sent, awaiting response... 200 OK\n",
      "Length: 2156 (2.1K) [text/plain]\n",
      "Saving to: ‘preprocess-churn.py’\n",
      "\n",
      "preprocess-churn.py 100%[===================>]   2.11K  --.-KB/s    in 0.001s  \n",
      "\n",
      "2024-11-18 15:20:50 (3.10 MB/s) - ‘preprocess-churn.py’ saved [2156/2156]\n",
      "\n"
     ]
    }
   ],
   "source": [
    "# Use wget to download the preprocessing script from the GitHub repository\n",
    "!wget --no-check-certificate https://github.com/garganshulgarg/learn-mlops-with-sagemaker/raw/refs/heads/main/applications/4-sagemaker-model-train-pipeline/preprocess-churn.py"
   ]
  },
  {
   "cell_type": "markdown",
   "id": "f017ebf8-e813-4653-bebd-b8eee2f949bb",
   "metadata": {
    "editable": true,
    "slideshow": {
     "slide_type": ""
    },
    "tags": []
   },
   "source": [
    "#### Viewing the Preprocessing Script"
   ]
  },
  {
   "cell_type": "markdown",
   "id": "f84bbe76-44c9-4e7c-927b-43e62374539b",
   "metadata": {
    "editable": true,
    "slideshow": {
     "slide_type": ""
    },
    "tags": []
   },
   "source": [
    "In this step, we use pygmentize to display the content of the preprocess-churn.py script in a more readable, highlighted format. This helps us review the script to understand the preprocessing logic before using it in the SageMaker pipeline."
   ]
  },
  {
   "cell_type": "code",
   "execution_count": 9,
   "id": "16c20bd7-b808-4697-a566-ed5ce2bcacbf",
   "metadata": {
    "editable": true,
    "slideshow": {
     "slide_type": ""
    },
    "tags": []
   },
   "outputs": [
    {
     "name": "stdout",
     "output_type": "stream",
     "text": [
      "\u001b[34mimport\u001b[39;49;00m \u001b[04m\u001b[36mos\u001b[39;49;00m\u001b[37m\u001b[39;49;00m\n",
      "\u001b[34mimport\u001b[39;49;00m \u001b[04m\u001b[36mtempfile\u001b[39;49;00m\u001b[37m\u001b[39;49;00m\n",
      "\u001b[34mimport\u001b[39;49;00m \u001b[04m\u001b[36mnumpy\u001b[39;49;00m \u001b[34mas\u001b[39;49;00m \u001b[04m\u001b[36mnp\u001b[39;49;00m\u001b[37m\u001b[39;49;00m\n",
      "\u001b[34mimport\u001b[39;49;00m \u001b[04m\u001b[36mpandas\u001b[39;49;00m \u001b[34mas\u001b[39;49;00m \u001b[04m\u001b[36mpd\u001b[39;49;00m\u001b[37m\u001b[39;49;00m\n",
      "\u001b[34mimport\u001b[39;49;00m \u001b[04m\u001b[36mdatetime\u001b[39;49;00m \u001b[34mas\u001b[39;49;00m \u001b[04m\u001b[36mdt\u001b[39;49;00m\u001b[37m\u001b[39;49;00m\n",
      "\u001b[34mif\u001b[39;49;00m \u001b[31m__name__\u001b[39;49;00m == \u001b[33m\"\u001b[39;49;00m\u001b[33m__main__\u001b[39;49;00m\u001b[33m\"\u001b[39;49;00m:\u001b[37m\u001b[39;49;00m\n",
      "    base_dir = \u001b[33m\"\u001b[39;49;00m\u001b[33m/opt/ml/processing\u001b[39;49;00m\u001b[33m\"\u001b[39;49;00m\u001b[37m\u001b[39;49;00m\n",
      "    \u001b[37m#Read Data\u001b[39;49;00m\u001b[37m\u001b[39;49;00m\n",
      "    df = pd.read_csv(\u001b[37m\u001b[39;49;00m\n",
      "        \u001b[33mf\u001b[39;49;00m\u001b[33m\"\u001b[39;49;00m\u001b[33m{\u001b[39;49;00mbase_dir\u001b[33m}\u001b[39;49;00m\u001b[33m/input/storedata_total.csv\u001b[39;49;00m\u001b[33m\"\u001b[39;49;00m\u001b[37m\u001b[39;49;00m\n",
      "    )\u001b[37m\u001b[39;49;00m\n",
      "    \u001b[37m# convert created column to datetime\u001b[39;49;00m\u001b[37m\u001b[39;49;00m\n",
      "    df[\u001b[33m\"\u001b[39;49;00m\u001b[33mcreated\u001b[39;49;00m\u001b[33m\"\u001b[39;49;00m] = pd.to_datetime(df[\u001b[33m\"\u001b[39;49;00m\u001b[33mcreated\u001b[39;49;00m\u001b[33m\"\u001b[39;49;00m])\u001b[37m\u001b[39;49;00m\n",
      "    \u001b[37m#Convert firstorder and lastorder to datetime datatype\u001b[39;49;00m\u001b[37m\u001b[39;49;00m\n",
      "    df[\u001b[33m\"\u001b[39;49;00m\u001b[33mfirstorder\u001b[39;49;00m\u001b[33m\"\u001b[39;49;00m] = pd.to_datetime(df[\u001b[33m\"\u001b[39;49;00m\u001b[33mfirstorder\u001b[39;49;00m\u001b[33m\"\u001b[39;49;00m],errors=\u001b[33m'\u001b[39;49;00m\u001b[33mcoerce\u001b[39;49;00m\u001b[33m'\u001b[39;49;00m)\u001b[37m\u001b[39;49;00m\n",
      "    df[\u001b[33m\"\u001b[39;49;00m\u001b[33mlastorder\u001b[39;49;00m\u001b[33m\"\u001b[39;49;00m] = pd.to_datetime(df[\u001b[33m\"\u001b[39;49;00m\u001b[33mlastorder\u001b[39;49;00m\u001b[33m\"\u001b[39;49;00m],errors=\u001b[33m'\u001b[39;49;00m\u001b[33mcoerce\u001b[39;49;00m\u001b[33m'\u001b[39;49;00m)\u001b[37m\u001b[39;49;00m\n",
      "    \u001b[37m#Drop Rows with Null Values\u001b[39;49;00m\u001b[37m\u001b[39;49;00m\n",
      "    df = df.dropna()\u001b[37m\u001b[39;49;00m\n",
      "    \u001b[37m#Create column which gives the days between the last order and the first order\u001b[39;49;00m\u001b[37m\u001b[39;49;00m\n",
      "    df[\u001b[33m'\u001b[39;49;00m\u001b[33mfirst_last_days_diff\u001b[39;49;00m\u001b[33m'\u001b[39;49;00m] = (df[\u001b[33m'\u001b[39;49;00m\u001b[33mlastorder\u001b[39;49;00m\u001b[33m'\u001b[39;49;00m] - df[\u001b[33m'\u001b[39;49;00m\u001b[33mfirstorder\u001b[39;49;00m\u001b[33m'\u001b[39;49;00m]).dt.days\u001b[37m\u001b[39;49;00m\n",
      "    \u001b[37m#Create column which gives the days between the customer record was created and the first order\u001b[39;49;00m\u001b[37m\u001b[39;49;00m\n",
      "    df[\u001b[33m'\u001b[39;49;00m\u001b[33mcreated_first_days_diff\u001b[39;49;00m\u001b[33m'\u001b[39;49;00m] = (df[\u001b[33m'\u001b[39;49;00m\u001b[33mcreated\u001b[39;49;00m\u001b[33m'\u001b[39;49;00m] - df[\u001b[33m'\u001b[39;49;00m\u001b[33mfirstorder\u001b[39;49;00m\u001b[33m'\u001b[39;49;00m]).dt.days\u001b[37m\u001b[39;49;00m\n",
      "    \u001b[37m#Drop columns\u001b[39;49;00m\u001b[37m\u001b[39;49;00m\n",
      "    df.drop([\u001b[33m'\u001b[39;49;00m\u001b[33mcustid\u001b[39;49;00m\u001b[33m'\u001b[39;49;00m, \u001b[33m'\u001b[39;49;00m\u001b[33mcreated\u001b[39;49;00m\u001b[33m'\u001b[39;49;00m,\u001b[33m'\u001b[39;49;00m\u001b[33mfirstorder\u001b[39;49;00m\u001b[33m'\u001b[39;49;00m,\u001b[33m'\u001b[39;49;00m\u001b[33mlastorder\u001b[39;49;00m\u001b[33m'\u001b[39;49;00m], axis=\u001b[34m1\u001b[39;49;00m, inplace=\u001b[34mTrue\u001b[39;49;00m)\u001b[37m\u001b[39;49;00m\n",
      "    \u001b[37m#Apply one hot encoding on favday and city columns\u001b[39;49;00m\u001b[37m\u001b[39;49;00m\n",
      "    df = pd.get_dummies(df, prefix=[\u001b[33m'\u001b[39;49;00m\u001b[33mfavday\u001b[39;49;00m\u001b[33m'\u001b[39;49;00m, \u001b[33m'\u001b[39;49;00m\u001b[33mcity\u001b[39;49;00m\u001b[33m'\u001b[39;49;00m], columns=[\u001b[33m'\u001b[39;49;00m\u001b[33mfavday\u001b[39;49;00m\u001b[33m'\u001b[39;49;00m, \u001b[33m'\u001b[39;49;00m\u001b[33mcity\u001b[39;49;00m\u001b[33m'\u001b[39;49;00m])\u001b[37m\u001b[39;49;00m\n",
      "    \u001b[37m# Split into train, validation and test datasets\u001b[39;49;00m\u001b[37m\u001b[39;49;00m\n",
      "    y = df.pop(\u001b[33m\"\u001b[39;49;00m\u001b[33mretained\u001b[39;49;00m\u001b[33m\"\u001b[39;49;00m)\u001b[37m\u001b[39;49;00m\n",
      "    X_pre = df\u001b[37m\u001b[39;49;00m\n",
      "    y_pre = y.to_numpy().reshape(\u001b[36mlen\u001b[39;49;00m(y), \u001b[34m1\u001b[39;49;00m)\u001b[37m\u001b[39;49;00m\n",
      "    X = np.concatenate((y_pre, X_pre), axis=\u001b[34m1\u001b[39;49;00m)\u001b[37m\u001b[39;49;00m\n",
      "    np.random.shuffle(X)\u001b[37m\u001b[39;49;00m\n",
      "    \u001b[37m# Split in Train, Test and Validation Datasets\u001b[39;49;00m\u001b[37m\u001b[39;49;00m\n",
      "    train, validation, test = np.split(X, [\u001b[36mint\u001b[39;49;00m(\u001b[34m.7\u001b[39;49;00m*\u001b[36mlen\u001b[39;49;00m(X)), \u001b[36mint\u001b[39;49;00m(\u001b[34m.85\u001b[39;49;00m*\u001b[36mlen\u001b[39;49;00m(X))])\u001b[37m\u001b[39;49;00m\n",
      "    train_rows = np.shape(train)[\u001b[34m0\u001b[39;49;00m]\u001b[37m\u001b[39;49;00m\n",
      "    validation_rows = np.shape(validation)[\u001b[34m0\u001b[39;49;00m]\u001b[37m\u001b[39;49;00m\n",
      "    test_rows = np.shape(test)[\u001b[34m0\u001b[39;49;00m]\u001b[37m\u001b[39;49;00m\n",
      "    train = pd.DataFrame(train)\u001b[37m\u001b[39;49;00m\n",
      "    test = pd.DataFrame(test)\u001b[37m\u001b[39;49;00m\n",
      "    validation = pd.DataFrame(validation)\u001b[37m\u001b[39;49;00m\n",
      "    \u001b[37m# Convert the label column to integer\u001b[39;49;00m\u001b[37m\u001b[39;49;00m\n",
      "    train[\u001b[34m0\u001b[39;49;00m] = train[\u001b[34m0\u001b[39;49;00m].astype(\u001b[36mint\u001b[39;49;00m)\u001b[37m\u001b[39;49;00m\n",
      "    test[\u001b[34m0\u001b[39;49;00m] = test[\u001b[34m0\u001b[39;49;00m].astype(\u001b[36mint\u001b[39;49;00m)\u001b[37m\u001b[39;49;00m\n",
      "    validation[\u001b[34m0\u001b[39;49;00m] = validation[\u001b[34m0\u001b[39;49;00m].astype(\u001b[36mint\u001b[39;49;00m)\u001b[37m\u001b[39;49;00m\n",
      "    \u001b[37m# Save the Dataframes as csv files\u001b[39;49;00m\u001b[37m\u001b[39;49;00m\n",
      "    train.to_csv(\u001b[33mf\u001b[39;49;00m\u001b[33m\"\u001b[39;49;00m\u001b[33m{\u001b[39;49;00mbase_dir\u001b[33m}\u001b[39;49;00m\u001b[33m/train/train.csv\u001b[39;49;00m\u001b[33m\"\u001b[39;49;00m, header=\u001b[34mFalse\u001b[39;49;00m, index=\u001b[34mFalse\u001b[39;49;00m)\u001b[37m\u001b[39;49;00m\n",
      "    validation.to_csv(\u001b[33mf\u001b[39;49;00m\u001b[33m\"\u001b[39;49;00m\u001b[33m{\u001b[39;49;00mbase_dir\u001b[33m}\u001b[39;49;00m\u001b[33m/validation/validation.csv\u001b[39;49;00m\u001b[33m\"\u001b[39;49;00m, header=\u001b[34mFalse\u001b[39;49;00m, index=\u001b[34mFalse\u001b[39;49;00m)\u001b[37m\u001b[39;49;00m\n",
      "    test.to_csv(\u001b[33mf\u001b[39;49;00m\u001b[33m\"\u001b[39;49;00m\u001b[33m{\u001b[39;49;00mbase_dir\u001b[33m}\u001b[39;49;00m\u001b[33m/test/test.csv\u001b[39;49;00m\u001b[33m\"\u001b[39;49;00m, header=\u001b[34mFalse\u001b[39;49;00m, index=\u001b[34mFalse\u001b[39;49;00m)\u001b[37m\u001b[39;49;00m\n"
     ]
    }
   ],
   "source": [
    "# Use pygmentize to display the content of the preprocessing script with syntax highlighting\n",
    "!pygmentize \"preprocess-churn.py\""
   ]
  },
  {
   "cell_type": "markdown",
   "id": "f71fb1d3-27ce-49ec-8439-30ca1f6ab147",
   "metadata": {
    "editable": true,
    "slideshow": {
     "slide_type": ""
    },
    "tags": []
   },
   "source": [
    "#### Defining the Feature Engineering PreProcessing Step"
   ]
  },
  {
   "cell_type": "markdown",
   "id": "33186ee2-22f1-40a7-b49e-55f0600d3bc5",
   "metadata": {
    "editable": true,
    "slideshow": {
     "slide_type": ""
    },
    "tags": []
   },
   "source": [
    "In this step, we define the Feature Engineering processing step within the SageMaker pipeline. The feature engineering step is responsible for preparing the features required for model training. We use the SKLearnProcessor to run the preprocess-churn.py script, which performs data preprocessing and splits the data into training, validation, and test sets. The outputs are stored in S3 for later use in the model training step."
   ]
  },
  {
   "cell_type": "code",
   "execution_count": 10,
   "id": "6eeb41f3-439a-4864-acff-71d0ea0e09a5",
   "metadata": {
    "editable": true,
    "slideshow": {
     "slide_type": ""
    },
    "tags": []
   },
   "outputs": [
    {
     "name": "stderr",
     "output_type": "stream",
     "text": [
      "The input argument instance_type of function (sagemaker.image_uris.retrieve) is a pipeline variable (<class 'sagemaker.workflow.parameters.ParameterString'>), which is interpreted in pipeline execution time only. As the function needs to evaluate the argument value in SDK compile time, the default_value of this Parameter object will be used to override it. Please make sure the default_value is valid.\n",
      "/opt/conda/lib/python3.11/site-packages/sagemaker/workflow/pipeline_context.py:332: UserWarning: Running within a PipelineSession, there will be No Wait, No Logs, and No Job being started.\n",
      "  warnings.warn(\n"
     ]
    }
   ],
   "source": [
    "# Import necessary libraries for defining the processing step\n",
    "from sagemaker.sklearn.processing import SKLearnProcessor\n",
    "from sagemaker.processing import ProcessingInput, ProcessingOutput\n",
    "from sagemaker.workflow.steps import ProcessingStep\n",
    "\n",
    "# Define the framework version and SKLearnProcessor for feature engineering\n",
    "framework_version = \"1.0-1\"\n",
    "sklearn_processor = SKLearnProcessor(\n",
    "    framework_version=framework_version,\n",
    "    instance_type=processing_instance_type,  # Use ml.m5.xlarge instance type for processing\n",
    "    instance_count=processing_instance_count,  # Number of instances for processing\n",
    "    base_job_name=\"sklearn-churn-process\",  # Prefix for the job names\n",
    "    role=role,  # Execution role for SageMaker\n",
    "    sagemaker_session=pipeline_session,  # SageMaker session to run the job\n",
    ")\n",
    "\n",
    "# Define the processing step inputs and outputs\n",
    "processor_args = sklearn_processor.run(\n",
    "    inputs=[\n",
    "        ProcessingInput(source=input_data, destination=\"/opt/ml/processing/input\"),  # Input data\n",
    "    ],\n",
    "    outputs=[\n",
    "        ProcessingOutput(output_name=\"train\", source=\"/opt/ml/processing/train\", \n",
    "                         destination=f\"s3://{default_bucket}/output/train\"),  # Training data output\n",
    "        ProcessingOutput(output_name=\"validation\", source=\"/opt/ml/processing/validation\", \n",
    "                         destination=f\"s3://{default_bucket}/output/validation\"),  # Validation data output\n",
    "        ProcessingOutput(output_name=\"test\", source=\"/opt/ml/processing/test\", \n",
    "                         destination=f\"s3://{default_bucket}/output/test\"),  # Test data output\n",
    "    ],\n",
    "    code=\"preprocess-churn.py\",  # Path to the preprocessing script\n",
    ")\n",
    "\n",
    "# Define the processing step in the pipeline\n",
    "step_process = ProcessingStep(name=\"ChurnModelProcess\", step_args=processor_args)\n"
   ]
  },
  {
   "cell_type": "markdown",
   "id": "9f8f75fb-081b-4a0f-a387-d1382320f905",
   "metadata": {},
   "source": [
    "### Defining the Model Training Step"
   ]
  },
  {
   "cell_type": "markdown",
   "id": "992fb3a2-f099-4b7e-9436-6c8b1ed76d63",
   "metadata": {},
   "source": [
    "In this step, we define the model training step using the SageMaker XGBoost framework. The XGBoost algorithm is configured with fixed hyperparameters for binary classification and is trained to optimize the AUC metric. The model artifact is saved to an S3 bucket for further evaluation and deployment. This step prepares the environment for hyperparameter tuning and training."
   ]
  },
  {
   "cell_type": "code",
   "execution_count": 12,
   "id": "c4cea27e-9e04-4231-9fd0-e29022611b33",
   "metadata": {
    "editable": true,
    "slideshow": {
     "slide_type": ""
    },
    "tags": []
   },
   "outputs": [
    {
     "name": "stderr",
     "output_type": "stream",
     "text": [
      "The input argument instance_type of function (sagemaker.image_uris.retrieve) is a pipeline variable (<class 'sagemaker.workflow.parameters.ParameterString'>), which is interpreted in pipeline execution time only. As the function needs to evaluate the argument value in SDK compile time, the default_value of this Parameter object will be used to override it. Please make sure the default_value is valid.\n"
     ]
    }
   ],
   "source": [
    "# Import necessary libraries for defining the training step and hyperparameter tuning\n",
    "from sagemaker.estimator import Estimator\n",
    "from sagemaker.inputs import TrainingInput\n",
    "from sagemaker.tuner import (\n",
    "    IntegerParameter,\n",
    "    CategoricalParameter,\n",
    "    ContinuousParameter,\n",
    "    HyperparameterTuner,\n",
    ")\n",
    "from sagemaker.workflow.steps import TuningStep\n",
    "\n",
    "# Define the S3 path where the model artifact will be stored\n",
    "model_path = f\"s3://{default_bucket}/output\"\n",
    "\n",
    "# Retrieve the XGBoost Docker image URI for the specific framework and instance type\n",
    "image_uri = sagemaker.image_uris.retrieve(\n",
    "    framework=\"xgboost\",  # Specify the XGBoost framework\n",
    "    region=region,  # AWS region\n",
    "    version=\"1.0-1\",  # Framework version\n",
    "    py_version=\"py3\",  # Python version\n",
    "    instance_type=training_instance_type,  # Instance type\n",
    ")\n",
    "\n",
    "# Define fixed hyperparameters for the XGBoost algorithm\n",
    "fixed_hyperparameters = {\n",
    "    \"eval_metric\": \"auc\",  # Metric to evaluate model performance\n",
    "    \"objective\": \"binary:logistic\",  # Objective for binary classification\n",
    "    \"num_round\": \"100\",  # Number of training rounds\n",
    "    \"rate_drop\": \"0.3\",  # Dropout rate\n",
    "    \"tweedie_variance_power\": \"1.4\",  # Tweedie variance parameter\n",
    "}\n",
    "\n",
    "# Define the XGBoost Estimator for training\n",
    "xgb_train = Estimator(\n",
    "    image_uri=image_uri,  # XGBoost image URI\n",
    "    instance_type=training_instance_type,  # Instance type for training\n",
    "    instance_count=1,  # Number of instances for training\n",
    "    hyperparameters=fixed_hyperparameters,  # Fixed hyperparameters\n",
    "    output_path=model_path,  # Output path for model artifacts\n",
    "    base_job_name=\"churn-train\",  # Prefix for the training job name\n",
    "    sagemaker_session=pipeline_session,  # SageMaker session\n",
    "    role=role,  # Execution role\n",
    ")"
   ]
  },
  {
   "cell_type": "markdown",
   "id": "52c1f03c-6670-4bce-bd5d-fd3314bcd4ec",
   "metadata": {},
   "source": [
    "### Defining the Hyperparameter Tuning Step in SageMaker Pipeline"
   ]
  },
  {
   "cell_type": "markdown",
   "id": "2449a307-db7a-4a05-a2d0-3138ca596d92",
   "metadata": {},
   "source": [
    "In this step, we define the Hyperparameter Tuning step for the SageMaker pipeline. Hyperparameter tuning helps optimize the model's performance by searching for the best combination of hyperparameters using the SageMaker XGBoost framework. The model is evaluated using the AUC metric on the validation dataset, and the best model is identified for further steps."
   ]
  },
  {
   "cell_type": "code",
   "execution_count": 13,
   "id": "f59660cc-8a72-48d6-b3b3-2a5023b98135",
   "metadata": {},
   "outputs": [],
   "source": [
    "# Define the range of hyperparameters to tune\n",
    "hyperparameter_ranges = {\n",
    "    \"eta\": ContinuousParameter(0, 1),  # Learning rate range\n",
    "    \"min_child_weight\": ContinuousParameter(1, 10),  # Minimum sum of instance weight (hessian)\n",
    "    \"alpha\": ContinuousParameter(0, 2),  # L1 regularization term range\n",
    "    \"max_depth\": IntegerParameter(1, 10),  # Range for maximum tree depth\n",
    "}\n",
    "\n",
    "# Define the objective metric for tuning\n",
    "objective_metric_name = \"validation:auc\"  # AUC metric on validation data\n",
    "\n",
    "# Configure the HyperparameterTuner\n",
    "tuner = HyperparameterTuner(\n",
    "    estimator=xgb_train,  # XGBoost estimator\n",
    "    objective_metric_name=objective_metric_name,  # Metric to optimize\n",
    "    hyperparameter_ranges=hyperparameter_ranges,  # Hyperparameter ranges\n",
    "    max_jobs=2,  # Maximum number of tuning jobs\n",
    "    max_parallel_jobs=2,  # Maximum number of parallel jobs\n",
    ")\n",
    "\n",
    "# Define the arguments for the hyperparameter optimization job\n",
    "hpo_args = tuner.fit(\n",
    "    inputs={\n",
    "        \"train\": TrainingInput(\n",
    "            s3_data=step_process.properties.ProcessingOutputConfig.Outputs[\"train\"].S3Output.S3Uri,\n",
    "            content_type=\"text/csv\",  # Specify the content type\n",
    "        ),\n",
    "        \"validation\": TrainingInput(\n",
    "            s3_data=step_process.properties.ProcessingOutputConfig.Outputs[\"validation\"].S3Output.S3Uri,\n",
    "            content_type=\"text/csv\",  # Specify the content type\n",
    "        ),\n",
    "    }\n",
    ")\n",
    "\n",
    "# Define the TuningStep for the SageMaker pipeline\n",
    "step_tuning = TuningStep(\n",
    "    name=\"ChurnHyperParameterTuning\",  # Name of the tuning step\n",
    "    step_args=hpo_args,  # Arguments for the tuning job\n",
    ")"
   ]
  },
  {
   "cell_type": "markdown",
   "id": "f728fffc-4c3e-408f-b17d-74bdc7919982",
   "metadata": {},
   "source": [
    "### Defining the Model Evaluation Step in SageMaker Pipeline"
   ]
  },
  {
   "cell_type": "markdown",
   "id": "4afe66a9-600e-4e30-8e55-ba73e3996940",
   "metadata": {},
   "source": [
    "#### Downloading the Model Evaluation Script"
   ]
  },
  {
   "cell_type": "markdown",
   "id": "cb361b31-fc16-4838-971a-9d4017fb8f92",
   "metadata": {},
   "source": [
    "In this step, we download the model evaluation script (evaluate-churn.py) from the GitHub repository. This script will be used in the pipeline to evaluate the trained model's performance using the test dataset and compute metrics such as AUC to determine its effectiveness."
   ]
  },
  {
   "cell_type": "code",
   "execution_count": null,
   "id": "e43e0a72-b18f-4c5d-ac85-70b6bd2ff724",
   "metadata": {},
   "outputs": [
    {
     "name": "stdout",
     "output_type": "stream",
     "text": [
      "--2024-11-18 15:30:36--  https://raw.githubusercontent.com/garganshulgarg/learn-mlops-with-sagemaker/refs/heads/sagemaker-train-pipeline/applications/4-sagemaker-model-train-pipeline/evaluate-churn.py\n",
      "Resolving raw.githubusercontent.com (raw.githubusercontent.com)... 185.199.108.133, 185.199.111.133, 185.199.109.133, ...\n",
      "Connecting to raw.githubusercontent.com (raw.githubusercontent.com)|185.199.108.133|:443... connected.\n",
      "WARNING: cannot verify raw.githubusercontent.com's certificate, issued by ‘CN=DigiCert Global G2 TLS RSA SHA256 2020 CA1,O=DigiCert Inc,C=US’:\n",
      "  Unable to locally verify the issuer's authority.\n",
      "HTTP request sent, awaiting response... 200 OK\n",
      "Length: 1309 (1.3K) [text/plain]\n",
      "Saving to: ‘evaluate-churn.py’\n",
      "\n",
      "evaluate-churn.py   100%[===================>]   1.28K  --.-KB/s    in 0s      \n",
      "\n",
      "2024-11-18 15:30:36 (72.3 MB/s) - ‘evaluate-churn.py’ saved [1309/1309]\n",
      "\n"
     ]
    }
   ],
   "source": [
    "!wget --no-check-certificate https://raw.githubusercontent.com/garganshulgarg/learn-mlops-with-sagemaker/refs/head/main/sapplications/4-sagemaker-model-train-pipeline/evaluate-churn.py"
   ]
  },
  {
   "cell_type": "code",
   "execution_count": 15,
   "id": "67f14064-39ce-4175-af90-804cef1559a8",
   "metadata": {},
   "outputs": [
    {
     "name": "stdout",
     "output_type": "stream",
     "text": [
      "\u001b[34mimport\u001b[39;49;00m \u001b[04m\u001b[36mjson\u001b[39;49;00m\u001b[37m\u001b[39;49;00m\n",
      "\u001b[34mimport\u001b[39;49;00m \u001b[04m\u001b[36mpathlib\u001b[39;49;00m\u001b[37m\u001b[39;49;00m\n",
      "\u001b[34mimport\u001b[39;49;00m \u001b[04m\u001b[36mpickle\u001b[39;49;00m\u001b[37m\u001b[39;49;00m\n",
      "\u001b[34mimport\u001b[39;49;00m \u001b[04m\u001b[36mtarfile\u001b[39;49;00m\u001b[37m\u001b[39;49;00m\n",
      "\u001b[34mimport\u001b[39;49;00m \u001b[04m\u001b[36mjoblib\u001b[39;49;00m\u001b[37m\u001b[39;49;00m\n",
      "\u001b[34mimport\u001b[39;49;00m \u001b[04m\u001b[36mnumpy\u001b[39;49;00m \u001b[34mas\u001b[39;49;00m \u001b[04m\u001b[36mnp\u001b[39;49;00m\u001b[37m\u001b[39;49;00m\n",
      "\u001b[34mimport\u001b[39;49;00m \u001b[04m\u001b[36mpandas\u001b[39;49;00m \u001b[34mas\u001b[39;49;00m \u001b[04m\u001b[36mpd\u001b[39;49;00m\u001b[37m\u001b[39;49;00m\n",
      "\u001b[34mimport\u001b[39;49;00m \u001b[04m\u001b[36mxgboost\u001b[39;49;00m\u001b[37m\u001b[39;49;00m\n",
      "\u001b[34mimport\u001b[39;49;00m \u001b[04m\u001b[36mdatetime\u001b[39;49;00m \u001b[34mas\u001b[39;49;00m \u001b[04m\u001b[36mdt\u001b[39;49;00m\u001b[37m\u001b[39;49;00m\n",
      "\u001b[34mfrom\u001b[39;49;00m \u001b[04m\u001b[36msklearn\u001b[39;49;00m\u001b[04m\u001b[36m.\u001b[39;49;00m\u001b[04m\u001b[36mmetrics\u001b[39;49;00m \u001b[34mimport\u001b[39;49;00m roc_curve,auc\u001b[37m\u001b[39;49;00m\n",
      "\u001b[34mif\u001b[39;49;00m \u001b[31m__name__\u001b[39;49;00m == \u001b[33m\"\u001b[39;49;00m\u001b[33m__main__\u001b[39;49;00m\u001b[33m\"\u001b[39;49;00m:   \u001b[37m\u001b[39;49;00m\n",
      "    \u001b[37m#Read Model Tar File\u001b[39;49;00m\u001b[37m\u001b[39;49;00m\n",
      "    model_path = \u001b[33mf\u001b[39;49;00m\u001b[33m\"\u001b[39;49;00m\u001b[33m/opt/ml/processing/model/model.tar.gz\u001b[39;49;00m\u001b[33m\"\u001b[39;49;00m\u001b[37m\u001b[39;49;00m\n",
      "    \u001b[34mwith\u001b[39;49;00m tarfile.open(model_path) \u001b[34mas\u001b[39;49;00m tar:\u001b[37m\u001b[39;49;00m\n",
      "        tar.extractall(path=\u001b[33m\"\u001b[39;49;00m\u001b[33m.\u001b[39;49;00m\u001b[33m\"\u001b[39;49;00m)\u001b[37m\u001b[39;49;00m\n",
      "    model = pickle.load(\u001b[36mopen\u001b[39;49;00m(\u001b[33m\"\u001b[39;49;00m\u001b[33mxgboost-model\u001b[39;49;00m\u001b[33m\"\u001b[39;49;00m, \u001b[33m\"\u001b[39;49;00m\u001b[33mrb\u001b[39;49;00m\u001b[33m\"\u001b[39;49;00m))\u001b[37m\u001b[39;49;00m\n",
      "    \u001b[37m#Read Test Data using which we evaluate the model\u001b[39;49;00m\u001b[37m\u001b[39;49;00m\n",
      "    test_path = \u001b[33m\"\u001b[39;49;00m\u001b[33m/opt/ml/processing/test/test.csv\u001b[39;49;00m\u001b[33m\"\u001b[39;49;00m\u001b[37m\u001b[39;49;00m\n",
      "    df = pd.read_csv(test_path, header=\u001b[34mNone\u001b[39;49;00m)\u001b[37m\u001b[39;49;00m\n",
      "    y_test = df.iloc[:, \u001b[34m0\u001b[39;49;00m].to_numpy()\u001b[37m\u001b[39;49;00m\n",
      "    df.drop(df.columns[\u001b[34m0\u001b[39;49;00m], axis=\u001b[34m1\u001b[39;49;00m, inplace=\u001b[34mTrue\u001b[39;49;00m)\u001b[37m\u001b[39;49;00m\n",
      "    X_test = xgboost.DMatrix(df.values)\u001b[37m\u001b[39;49;00m\n",
      "    \u001b[37m#Run Predictions\u001b[39;49;00m\u001b[37m\u001b[39;49;00m\n",
      "    predictions = model.predict(X_test)\u001b[37m\u001b[39;49;00m\n",
      "    \u001b[37m#Evaluate Predictions\u001b[39;49;00m\u001b[37m\u001b[39;49;00m\n",
      "    fpr, tpr, thresholds = roc_curve(y_test, predictions)\u001b[37m\u001b[39;49;00m\n",
      "    auc_score = auc(fpr, tpr)\u001b[37m\u001b[39;49;00m\n",
      "    report_dict = {\u001b[37m\u001b[39;49;00m\n",
      "        \u001b[33m\"\u001b[39;49;00m\u001b[33mclassification_metrics\u001b[39;49;00m\u001b[33m\"\u001b[39;49;00m: {\u001b[37m\u001b[39;49;00m\n",
      "            \u001b[33m\"\u001b[39;49;00m\u001b[33mauc_score\u001b[39;49;00m\u001b[33m\"\u001b[39;49;00m: {\u001b[37m\u001b[39;49;00m\n",
      "                \u001b[33m\"\u001b[39;49;00m\u001b[33mvalue\u001b[39;49;00m\u001b[33m\"\u001b[39;49;00m: auc_score,\u001b[37m\u001b[39;49;00m\n",
      "            },\u001b[37m\u001b[39;49;00m\n",
      "        },\u001b[37m\u001b[39;49;00m\n",
      "    }\u001b[37m\u001b[39;49;00m\n",
      "    \u001b[37m#Save Evaluation Report\u001b[39;49;00m\u001b[37m\u001b[39;49;00m\n",
      "    output_dir = \u001b[33m\"\u001b[39;49;00m\u001b[33m/opt/ml/processing/evaluation\u001b[39;49;00m\u001b[33m\"\u001b[39;49;00m\u001b[37m\u001b[39;49;00m\n",
      "    pathlib.Path(output_dir).mkdir(parents=\u001b[34mTrue\u001b[39;49;00m, exist_ok=\u001b[34mTrue\u001b[39;49;00m)\u001b[37m\u001b[39;49;00m\n",
      "    evaluation_path = \u001b[33mf\u001b[39;49;00m\u001b[33m\"\u001b[39;49;00m\u001b[33m{\u001b[39;49;00moutput_dir\u001b[33m}\u001b[39;49;00m\u001b[33m/evaluation.json\u001b[39;49;00m\u001b[33m\"\u001b[39;49;00m\u001b[37m\u001b[39;49;00m\n",
      "    \u001b[34mwith\u001b[39;49;00m \u001b[36mopen\u001b[39;49;00m(evaluation_path, \u001b[33m\"\u001b[39;49;00m\u001b[33mw\u001b[39;49;00m\u001b[33m\"\u001b[39;49;00m) \u001b[34mas\u001b[39;49;00m f:\u001b[37m\u001b[39;49;00m\n",
      "        f.write(json.dumps(report_dict))\u001b[37m\u001b[39;49;00m\n"
     ]
    }
   ],
   "source": [
    "!pygmentize \"evaluate-churn.py\""
   ]
  },
  {
   "cell_type": "markdown",
   "id": "c67fe250-066f-44a8-8ed9-f761d4457a29",
   "metadata": {},
   "source": [
    "#### Defining the Model Evaluation Step"
   ]
  },
  {
   "cell_type": "markdown",
   "id": "5c210b68-10c8-465a-8b31-4b6797841281",
   "metadata": {},
   "source": [
    "This step defines the Model Evaluation step in the SageMaker pipeline. Using a ScriptProcessor, the trained model is evaluated on the test dataset. The evaluation script computes performance metrics, such as the AUC score, to determine whether the model meets the required quality standards. The evaluation results are saved in an S3 bucket as a JSON report."
   ]
  },
  {
   "cell_type": "code",
   "execution_count": 16,
   "id": "ceba3d0e-848d-493e-b8ae-244446c6f4cd",
   "metadata": {},
   "outputs": [
    {
     "name": "stderr",
     "output_type": "stream",
     "text": [
      "/opt/conda/lib/python3.11/site-packages/sagemaker/workflow/pipeline_context.py:332: UserWarning: Running within a PipelineSession, there will be No Wait, No Logs, and No Job being started.\n",
      "  warnings.warn(\n"
     ]
    }
   ],
   "source": [
    "# Import required library for the ScriptProcessor\n",
    "from sagemaker.processing import ScriptProcessor\n",
    "from sagemaker.workflow.properties import PropertyFile\n",
    "\n",
    "# Define the ScriptProcessor to evaluate the model\n",
    "script_eval = ScriptProcessor(\n",
    "    image_uri=image_uri,  # XGBoost Docker image URI\n",
    "    command=[\"python3\"],  # Command to execute the evaluation script\n",
    "    instance_type=processing_instance_type,  # Instance type for processing\n",
    "    instance_count=1,  # Number of instances\n",
    "    base_job_name=\"script-churn-eval\",  # Prefix for the evaluation job name\n",
    "    role=role,  # Execution role\n",
    "    sagemaker_session=pipeline_session,  # SageMaker session\n",
    ")\n",
    "\n",
    "# Define the arguments for the evaluation script\n",
    "eval_args = script_eval.run(\n",
    "    inputs=[\n",
    "        ProcessingInput(\n",
    "            source=step_tuning.get_top_model_s3_uri(top_k=0, s3_bucket=default_bucket, prefix=\"output\"),\n",
    "            destination=\"/opt/ml/processing/model\",  # Location to load the best model\n",
    "        ),\n",
    "        ProcessingInput(\n",
    "            source=step_process.properties.ProcessingOutputConfig.Outputs[\"test\"].S3Output.S3Uri,\n",
    "            destination=\"/opt/ml/processing/test\",  # Location to load the test dataset\n",
    "        ),\n",
    "    ],\n",
    "    outputs=[\n",
    "        ProcessingOutput(\n",
    "            output_name=\"evaluation\", \n",
    "            source=\"/opt/ml/processing/evaluation\",  # Directory for evaluation output\n",
    "            destination=f\"s3://{default_bucket}/output/evaluation\",  # S3 bucket path\n",
    "        ),\n",
    "    ],\n",
    "    code=\"evaluate-churn.py\",  # Path to the evaluation script\n",
    ")\n",
    "\n",
    "# Define a PropertyFile to capture evaluation results\n",
    "evaluation_report = PropertyFile(\n",
    "    name=\"ChurnEvaluationReport\",  # Name of the evaluation report\n",
    "    output_name=\"evaluation\",  # Output name matching the ProcessingOutput\n",
    "    path=\"evaluation.json\",  # Path to the JSON report\n",
    ")\n",
    "\n",
    "# Define the ProcessingStep for model evaluation\n",
    "step_eval = ProcessingStep(\n",
    "    name=\"ChurnEvalModel\",  # Name of the step\n",
    "    step_args=eval_args,  # Arguments for the evaluation step\n",
    "    property_files=[evaluation_report],  # Attach evaluation report to the step\n",
    ")"
   ]
  },
  {
   "cell_type": "markdown",
   "id": "bf7c7791-e942-4e3e-ad89-d5fc9457e1a5",
   "metadata": {},
   "source": [
    "### Defining the Model Registration Step\n"
   ]
  },
  {
   "cell_type": "markdown",
   "id": "b0880abf-54b7-4b42-aa62-c8ef4e4ad314",
   "metadata": {},
   "source": [
    "This step defines the Model Registration step in the SageMaker pipeline. It involves registering the best-performing model into the SageMaker Model Registry. The model registration process includes attaching the evaluation metrics, setting supported instance types for inference, and specifying the approval status. The registered model is stored for deployment in production or staging environments."
   ]
  },
  {
   "cell_type": "code",
   "execution_count": 19,
   "id": "2b15ea36-eed3-4af0-9e9f-2bbb34aa51d9",
   "metadata": {},
   "outputs": [
    {
     "name": "stderr",
     "output_type": "stream",
     "text": [
      "WARNING:sagemaker.workflow.utilities:Popping out 'ProcessingJobName' from the pipeline definition by default since it will be overridden at pipeline execution time. Please utilize the PipelineDefinitionConfig to persist this field in the pipeline definition if desired.\n",
      "/opt/conda/lib/python3.11/site-packages/sagemaker/workflow/pipeline_context.py:332: UserWarning: Running within a PipelineSession, there will be No Wait, No Logs, and No Job being started.\n",
      "  warnings.warn(\n"
     ]
    }
   ],
   "source": [
    "# Import necessary libraries for Model and ModelStep\n",
    "from sagemaker import Model\n",
    "from sagemaker.workflow.model_step import ModelStep\n",
    "from sagemaker.model_metrics import MetricsSource, ModelMetrics\n",
    "\n",
    "# Define the Model object using the best model from hyperparameter tuning\n",
    "model = Model(\n",
    "    image_uri=image_uri,  # XGBoost Docker image URI\n",
    "    model_data=step_tuning.get_top_model_s3_uri(top_k=0, s3_bucket=default_bucket, prefix=\"output\"),\n",
    "    sagemaker_session=pipeline_session,  # SageMaker session\n",
    "    role=role,  # Execution role\n",
    ")\n",
    "\n",
    "# Define model evaluation metrics\n",
    "model_metrics = ModelMetrics(\n",
    "    model_statistics=MetricsSource(\n",
    "        s3_uri=\"{}/evaluation.json\".format(\n",
    "            step_eval.arguments[\"ProcessingOutputConfig\"][\"Outputs\"][0][\"S3Output\"][\"S3Uri\"]\n",
    "        ),  # Path to the evaluation report in S3\n",
    "        content_type=\"application/json\",  # Format of the evaluation report\n",
    "    )\n",
    ")\n",
    "\n",
    "# Specify the arguments for registering the model in the Model Registry\n",
    "register_args = model.register(\n",
    "    content_types=[\"text/csv\"],  # Input content type\n",
    "    response_types=[\"text/csv\"],  # Output content type\n",
    "    inference_instances=[\"ml.t2.medium\", \"ml.m5.xlarge\"],  # Instance types for real-time inference\n",
    "    transform_instances=[\"ml.m5.xlarge\"],  # Instance types for batch inference\n",
    "    model_package_group_name=model_package_group_name,  # Name of the model package group\n",
    "    approval_status=model_approval_status,  # Approval status (e.g., PendingManualApproval)\n",
    "    model_metrics=model_metrics,  # Attach evaluation metrics to the model\n",
    ")\n",
    "\n",
    "# Define the ModelStep for registering the model in the pipeline\n",
    "step_register = ModelStep(\n",
    "    name=\"ChurnRegisterModel\",  # Name of the model registration step\n",
    "    step_args=register_args,  # Arguments for the model registration process\n",
    ")"
   ]
  },
  {
   "cell_type": "markdown",
   "id": "30443199-cdff-444a-957e-a0313d5d1746",
   "metadata": {},
   "source": [
    "### Defining the Model AUC Score Check Step"
   ]
  },
  {
   "cell_type": "markdown",
   "id": "da45e93f-8320-4558-8a20-bc41aa7cd968",
   "metadata": {},
   "source": [
    "This step defines a conditional check in the SageMaker pipeline to validate the trained model's performance. The condition checks whether the AUC score from the evaluation step meets the predefined threshold. If the score is greater than the threshold, the model is registered into the Model Registry. This ensures only high-quality models proceed to deployment."
   ]
  },
  {
   "cell_type": "code",
   "execution_count": 20,
   "id": "dd6411e2-883d-4dfa-8c8b-069b9fa22161",
   "metadata": {},
   "outputs": [],
   "source": [
    "# Import required libraries for condition evaluation and step creation\n",
    "from sagemaker.workflow.conditions import ConditionGreaterThan\n",
    "from sagemaker.workflow.condition_step import ConditionStep\n",
    "from sagemaker.workflow.functions import JsonGet\n",
    "\n",
    "# Define the condition to check if the AUC score exceeds the threshold\n",
    "cond_lte = ConditionGreaterThan(\n",
    "    left=JsonGet(\n",
    "        step_name=step_eval.name,  # Name of the evaluation step\n",
    "        property_file=evaluation_report,  # Evaluation report file\n",
    "        json_path=\"classification_metrics.auc_score.value\",  # Path to the AUC score in the evaluation report\n",
    "    ),\n",
    "    right=auc_score_threshold,  # Predefined AUC score threshold\n",
    ")\n",
    "\n",
    "# Define the ConditionStep to evaluate the condition\n",
    "step_cond = ConditionStep(\n",
    "    name=\"CheckAUCScoreChurnEvaluation\",  # Name of the condition step\n",
    "    conditions=[cond_lte],  # List of conditions to evaluate\n",
    "    if_steps=[step_register],  # Steps to execute if the condition is met\n",
    ")"
   ]
  },
  {
   "cell_type": "markdown",
   "id": "44ba1cd2-6d4f-4c6b-b284-d71cf636c206",
   "metadata": {},
   "source": [
    "### Defining the SageMaker Pipeline"
   ]
  },
  {
   "cell_type": "markdown",
   "id": "0f83458f-ab20-462e-85da-346396508b10",
   "metadata": {},
   "source": [
    "This step defines the complete SageMaker pipeline by combining all individual steps, including preprocessing, hyperparameter tuning, model evaluation, and conditional model registration. The pipeline is parameterized for flexibility, allowing users to specify instance types, data inputs, and thresholds. Finally, the pipeline's JSON definition is generated and printed."
   ]
  },
  {
   "cell_type": "code",
   "execution_count": 21,
   "id": "edef681d-dc4e-4a06-b5e2-db8ced13696d",
   "metadata": {},
   "outputs": [
    {
     "name": "stderr",
     "output_type": "stream",
     "text": [
      "WARNING:sagemaker.workflow.utilities:Popping out 'ProcessingJobName' from the pipeline definition by default since it will be overridden at pipeline execution time. Please utilize the PipelineDefinitionConfig to persist this field in the pipeline definition if desired.\n",
      "WARNING:sagemaker.estimator:No finished training job found associated with this estimator. Please make sure this estimator is only used for building workflow config\n",
      "WARNING:sagemaker.estimator:No finished training job found associated with this estimator. Please make sure this estimator is only used for building workflow config\n",
      "WARNING:sagemaker.workflow.utilities:Popping out 'HyperParameterTuningJobName' from the pipeline definition by default since it will be overridden at pipeline execution time. Please utilize the PipelineDefinitionConfig to persist this field in the pipeline definition if desired.\n",
      "WARNING:sagemaker.workflow.utilities:Popping out 'ProcessingJobName' from the pipeline definition by default since it will be overridden at pipeline execution time. Please utilize the PipelineDefinitionConfig to persist this field in the pipeline definition if desired.\n",
      "WARNING:sagemaker.workflow._utils:Popping out 'CertifyForMarketplace' from the pipeline definition since it will be overridden in pipeline execution time.\n",
      "WARNING:sagemaker.workflow.utilities:Popping out 'ModelPackageName' from the pipeline definition by default since it will be overridden at pipeline execution time. Please utilize the PipelineDefinitionConfig to persist this field in the pipeline definition if desired.\n"
     ]
    },
    {
     "name": "stdout",
     "output_type": "stream",
     "text": [
      "{'Version': '2020-12-01', 'Metadata': {}, 'Parameters': [{'Name': 'ProcessingInstanceCount', 'Type': 'Integer', 'DefaultValue': 1}, {'Name': 'ProcessingInstanceType', 'Type': 'String', 'DefaultValue': 'ml.m5.xlarge'}, {'Name': 'TrainingInstanceType', 'Type': 'String', 'DefaultValue': 'ml.m5.xlarge'}, {'Name': 'ModelApprovalStatus', 'Type': 'String', 'DefaultValue': 'PendingManualApproval'}], 'PipelineExperimentConfig': {'ExperimentName': {'Get': 'Execution.PipelineName'}, 'TrialName': {'Get': 'Execution.PipelineExecutionId'}}, 'Steps': [{'Name': 'ChurnModelProcess', 'Type': 'Processing', 'Arguments': {'ProcessingResources': {'ClusterConfig': {'InstanceType': {'Get': 'Parameters.ProcessingInstanceType'}, 'InstanceCount': {'Get': 'Parameters.ProcessingInstanceCount'}, 'VolumeSizeInGB': 30}}, 'AppSpecification': {'ImageUri': '683313688378.dkr.ecr.us-east-1.amazonaws.com/sagemaker-scikit-learn:1.0-1-cpu-py3', 'ContainerEntrypoint': ['python3', '/opt/ml/processing/input/code/preprocess-churn.py']}, 'RoleArn': 'arn:aws:iam::607119565685:role/LearnMlOpsSageMakerExecutionRole', 'ProcessingInputs': [{'InputName': 'input-1', 'AppManaged': False, 'S3Input': {'S3Uri': 's3://sagemaker-us-east-1-607119565685/sagemaker-mlops-train-pipeline/ChurnModelProcess/input/input-1/storedata_total.csv', 'LocalPath': '/opt/ml/processing/input', 'S3DataType': 'S3Prefix', 'S3InputMode': 'File', 'S3DataDistributionType': 'FullyReplicated', 'S3CompressionType': 'None'}}, {'InputName': 'code', 'AppManaged': False, 'S3Input': {'S3Uri': 's3://sagemaker-us-east-1-607119565685/sagemaker-mlops-train-pipeline/code/c570c64f24e8a2c6d8254de96925fe8e/preprocess-churn.py', 'LocalPath': '/opt/ml/processing/input/code', 'S3DataType': 'S3Prefix', 'S3InputMode': 'File', 'S3DataDistributionType': 'FullyReplicated', 'S3CompressionType': 'None'}}], 'ProcessingOutputConfig': {'Outputs': [{'OutputName': 'train', 'AppManaged': False, 'S3Output': {'S3Uri': 's3://sagemaker-us-east-1-607119565685/output/train', 'LocalPath': '/opt/ml/processing/train', 'S3UploadMode': 'EndOfJob'}}, {'OutputName': 'validation', 'AppManaged': False, 'S3Output': {'S3Uri': 's3://sagemaker-us-east-1-607119565685/output/validation', 'LocalPath': '/opt/ml/processing/validation', 'S3UploadMode': 'EndOfJob'}}, {'OutputName': 'test', 'AppManaged': False, 'S3Output': {'S3Uri': 's3://sagemaker-us-east-1-607119565685/output/test', 'LocalPath': '/opt/ml/processing/test', 'S3UploadMode': 'EndOfJob'}}]}}}, {'Name': 'ChurnHyperParameterTuning', 'Type': 'Tuning', 'Arguments': {'HyperParameterTuningJobConfig': {'Strategy': 'Bayesian', 'ResourceLimits': {'MaxNumberOfTrainingJobs': 2, 'MaxParallelTrainingJobs': 2}, 'TrainingJobEarlyStoppingType': 'Off', 'HyperParameterTuningJobObjective': {'Type': 'Maximize', 'MetricName': 'validation:auc'}, 'ParameterRanges': {'ContinuousParameterRanges': [{'Name': 'eta', 'MinValue': '0', 'MaxValue': '1', 'ScalingType': 'Auto'}, {'Name': 'min_child_weight', 'MinValue': '1', 'MaxValue': '10', 'ScalingType': 'Auto'}, {'Name': 'alpha', 'MinValue': '0', 'MaxValue': '2', 'ScalingType': 'Auto'}], 'CategoricalParameterRanges': [], 'IntegerParameterRanges': [{'Name': 'max_depth', 'MinValue': '1', 'MaxValue': '10', 'ScalingType': 'Auto'}]}}, 'TrainingJobDefinition': {'StaticHyperParameters': {'eval_metric': 'auc', 'objective': 'binary:logistic', 'num_round': '100', 'rate_drop': '0.3', 'tweedie_variance_power': '1.4'}, 'RoleArn': 'arn:aws:iam::607119565685:role/LearnMlOpsSageMakerExecutionRole', 'OutputDataConfig': {'S3OutputPath': 's3://sagemaker-us-east-1-607119565685/output'}, 'StoppingCondition': {'MaxRuntimeInSeconds': 86400}, 'HyperParameterTuningResourceConfig': {'InstanceCount': 1, 'InstanceType': {'Get': 'Parameters.TrainingInstanceType'}, 'VolumeSizeInGB': 30}, 'AlgorithmSpecification': {'TrainingInputMode': 'File', 'TrainingImage': '683313688378.dkr.ecr.us-east-1.amazonaws.com/sagemaker-xgboost:1.0-1-cpu-py3'}, 'InputDataConfig': [{'DataSource': {'S3DataSource': {'S3DataType': 'S3Prefix', 'S3Uri': {'Get': \"Steps.ChurnModelProcess.ProcessingOutputConfig.Outputs['train'].S3Output.S3Uri\"}, 'S3DataDistributionType': 'FullyReplicated'}}, 'ContentType': 'text/csv', 'ChannelName': 'train'}, {'DataSource': {'S3DataSource': {'S3DataType': 'S3Prefix', 'S3Uri': {'Get': \"Steps.ChurnModelProcess.ProcessingOutputConfig.Outputs['validation'].S3Output.S3Uri\"}, 'S3DataDistributionType': 'FullyReplicated'}}, 'ContentType': 'text/csv', 'ChannelName': 'validation'}]}}}, {'Name': 'ChurnEvalModel', 'Type': 'Processing', 'Arguments': {'ProcessingResources': {'ClusterConfig': {'InstanceType': {'Get': 'Parameters.ProcessingInstanceType'}, 'InstanceCount': 1, 'VolumeSizeInGB': 30}}, 'AppSpecification': {'ImageUri': '683313688378.dkr.ecr.us-east-1.amazonaws.com/sagemaker-xgboost:1.0-1-cpu-py3', 'ContainerEntrypoint': ['python3', '/opt/ml/processing/input/code/evaluate-churn.py']}, 'RoleArn': 'arn:aws:iam::607119565685:role/LearnMlOpsSageMakerExecutionRole', 'ProcessingInputs': [{'InputName': 'input-1', 'AppManaged': False, 'S3Input': {'S3Uri': {'Std:Join': {'On': '/', 'Values': ['s3:/', 'sagemaker-us-east-1-607119565685', 'output', {'Get': 'Steps.ChurnHyperParameterTuning.TrainingJobSummaries[0].TrainingJobName'}, 'output/model.tar.gz']}}, 'LocalPath': '/opt/ml/processing/model', 'S3DataType': 'S3Prefix', 'S3InputMode': 'File', 'S3DataDistributionType': 'FullyReplicated', 'S3CompressionType': 'None'}}, {'InputName': 'input-2', 'AppManaged': False, 'S3Input': {'S3Uri': {'Get': \"Steps.ChurnModelProcess.ProcessingOutputConfig.Outputs['test'].S3Output.S3Uri\"}, 'LocalPath': '/opt/ml/processing/test', 'S3DataType': 'S3Prefix', 'S3InputMode': 'File', 'S3DataDistributionType': 'FullyReplicated', 'S3CompressionType': 'None'}}, {'InputName': 'code', 'AppManaged': False, 'S3Input': {'S3Uri': 's3://sagemaker-us-east-1-607119565685/sagemaker-mlops-train-pipeline/code/41c6f8b85a79ce93b1bd4f4792842749/evaluate-churn.py', 'LocalPath': '/opt/ml/processing/input/code', 'S3DataType': 'S3Prefix', 'S3InputMode': 'File', 'S3DataDistributionType': 'FullyReplicated', 'S3CompressionType': 'None'}}], 'ProcessingOutputConfig': {'Outputs': [{'OutputName': 'evaluation', 'AppManaged': False, 'S3Output': {'S3Uri': 's3://sagemaker-us-east-1-607119565685/output/evaluation', 'LocalPath': '/opt/ml/processing/evaluation', 'S3UploadMode': 'EndOfJob'}}]}}, 'PropertyFiles': [{'PropertyFileName': 'ChurnEvaluationReport', 'OutputName': 'evaluation', 'FilePath': 'evaluation.json'}]}, {'Name': 'CheckAUCScoreChurnEvaluation', 'Type': 'Condition', 'Arguments': {'Conditions': [{'Type': 'GreaterThan', 'LeftValue': {'Std:JsonGet': {'PropertyFile': {'Get': 'Steps.ChurnEvalModel.PropertyFiles.ChurnEvaluationReport'}, 'Path': 'classification_metrics.auc_score.value'}}, 'RightValue': 0.75}], 'IfSteps': [{'Name': 'ChurnRegisterModel-RegisterModel', 'Type': 'RegisterModel', 'Arguments': {'ModelPackageGroupName': 'ChurnModelPackageGroup', 'ModelMetrics': {'ModelQuality': {'Statistics': {'ContentType': 'application/json', 'S3Uri': 's3://sagemaker-us-east-1-607119565685/output/evaluation/evaluation.json'}}, 'Bias': {}, 'Explainability': {}}, 'InferenceSpecification': {'Containers': [{'Image': '683313688378.dkr.ecr.us-east-1.amazonaws.com/sagemaker-xgboost:1.0-1-cpu-py3', 'Environment': {}, 'ModelDataUrl': {'Std:Join': {'On': '/', 'Values': ['s3:/', 'sagemaker-us-east-1-607119565685', 'output', {'Get': 'Steps.ChurnHyperParameterTuning.TrainingJobSummaries[0].TrainingJobName'}, 'output/model.tar.gz']}}}], 'SupportedContentTypes': ['text/csv'], 'SupportedResponseMIMETypes': ['text/csv'], 'SupportedRealtimeInferenceInstanceTypes': ['ml.t2.medium', 'ml.m5.xlarge'], 'SupportedTransformInstanceTypes': ['ml.m5.xlarge']}, 'ModelApprovalStatus': {'Get': 'Parameters.ModelApprovalStatus'}, 'SkipModelValidation': 'None'}}], 'ElseSteps': []}}]}\n"
     ]
    }
   ],
   "source": [
    "# Import required libraries\n",
    "import json\n",
    "from sagemaker.workflow.pipeline import Pipeline\n",
    "\n",
    "# Define the SageMaker pipeline\n",
    "pipeline = Pipeline(\n",
    "    name=pipeline_name,  # Name of the pipeline\n",
    "    parameters=[\n",
    "        processing_instance_count,  # Number of instances for preprocessing\n",
    "        processing_instance_type,  # Instance type for preprocessing\n",
    "        training_instance_type,  # Instance type for training\n",
    "        model_approval_status,  # Model approval status parameter\n",
    "        input_data,  # Input data file\n",
    "        auc_score_threshold,  # Threshold for AUC score\n",
    "    ],\n",
    "    steps=[step_process, step_tuning, step_eval, step_cond],  # Steps in the pipeline\n",
    ")\n",
    "\n",
    "# Convert pipeline definition to JSON and print it\n",
    "definition = json.loads(pipeline.definition())\n",
    "print(definition)"
   ]
  },
  {
   "cell_type": "code",
   "execution_count": 22,
   "id": "d5180d3b-3d15-448b-b520-ff936cbd6dc9",
   "metadata": {},
   "outputs": [
    {
     "name": "stderr",
     "output_type": "stream",
     "text": [
      "WARNING:sagemaker.workflow.utilities:Popping out 'ProcessingJobName' from the pipeline definition by default since it will be overridden at pipeline execution time. Please utilize the PipelineDefinitionConfig to persist this field in the pipeline definition if desired.\n",
      "WARNING:sagemaker.estimator:No finished training job found associated with this estimator. Please make sure this estimator is only used for building workflow config\n",
      "WARNING:sagemaker.estimator:No finished training job found associated with this estimator. Please make sure this estimator is only used for building workflow config\n",
      "WARNING:sagemaker.workflow.utilities:Popping out 'HyperParameterTuningJobName' from the pipeline definition by default since it will be overridden at pipeline execution time. Please utilize the PipelineDefinitionConfig to persist this field in the pipeline definition if desired.\n",
      "WARNING:sagemaker.workflow.utilities:Popping out 'ProcessingJobName' from the pipeline definition by default since it will be overridden at pipeline execution time. Please utilize the PipelineDefinitionConfig to persist this field in the pipeline definition if desired.\n",
      "WARNING:sagemaker.workflow.utilities:Popping out 'ModelPackageName' from the pipeline definition by default since it will be overridden at pipeline execution time. Please utilize the PipelineDefinitionConfig to persist this field in the pipeline definition if desired.\n"
     ]
    },
    {
     "data": {
      "text/plain": [
       "_PipelineExecution(arn='arn:aws:sagemaker:us-east-1:607119565685:pipeline/sagemaker-mlops-train-pipeline/execution/mhthysvhv0ai', sagemaker_session=<sagemaker.session.Session object at 0x7f9ee4a64490>)"
      ]
     },
     "execution_count": 22,
     "metadata": {},
     "output_type": "execute_result"
    }
   ],
   "source": [
    "# Create a new or update existing Pipeline\n",
    "pipeline.upsert(role_arn=role)\n",
    "# start Pipeline execution\n",
    "pipeline.start()"
   ]
  },
  {
   "cell_type": "code",
   "execution_count": null,
   "id": "9ff3de2c-199f-47de-9385-5d3ae4813bee",
   "metadata": {},
   "outputs": [],
   "source": []
  }
 ],
 "metadata": {
  "kernelspec": {
   "display_name": "Python 3 (ipykernel)",
   "language": "python",
   "name": "python3"
  },
  "language_info": {
   "codemirror_mode": {
    "name": "ipython",
    "version": 3
   },
   "file_extension": ".py",
   "mimetype": "text/x-python",
   "name": "python",
   "nbconvert_exporter": "python",
   "pygments_lexer": "ipython3",
   "version": "3.11.10"
  }
 },
 "nbformat": 4,
 "nbformat_minor": 5
}
