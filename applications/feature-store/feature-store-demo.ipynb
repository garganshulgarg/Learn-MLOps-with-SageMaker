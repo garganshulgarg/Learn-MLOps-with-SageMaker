{
 "cells": [
  {
   "cell_type": "code",
   "execution_count": 1,
   "id": "e578954b-0bdc-4943-9b2b-123051f63eed",
   "metadata": {},
   "outputs": [
    {
     "name": "stdout",
     "output_type": "stream",
     "text": [
      "sagemaker.config INFO - Not applying SDK defaults from location: /etc/xdg/sagemaker/config.yaml\n",
      "sagemaker.config INFO - Not applying SDK defaults from location: /home/sagemaker-user/.config/sagemaker/config.yaml\n"
     ]
    }
   ],
   "source": [
    "import sagemaker\n",
    "import boto3\n",
    "import sys\n",
    "import pandas as pd\n",
    "import numpy as np \n",
    "import io \n",
    "from sagemaker.session import Session\n",
    "from sagemaker import get_execution_role"
   ]
  },
  {
   "cell_type": "markdown",
   "id": "d4057ad2-4083-418a-aed5-f3818e515288",
   "metadata": {},
   "source": [
    "### Setup AWS SageMaker Session and Define Resources"
   ]
  },
  {
   "cell_type": "code",
   "execution_count": 2,
   "id": "e894ed57-ce21-41c0-983b-0fb8046c9aea",
   "metadata": {},
   "outputs": [
    {
     "name": "stdout",
     "output_type": "stream",
     "text": [
      "S3 Bucket Name: sagemaker-us-east-1-607119565685\n",
      "AWS Region: us-east-1\n",
      "IAM Role: arn:aws:iam::607119565685:role/LearnMlOpsSageMakerExecutionRole\n"
     ]
    }
   ],
   "source": [
    "# Define a unique prefix for SageMaker resources to ensure organized naming in AWS.\n",
    "prefix = \"aws-mlops-sagemaker\"\n",
    "\n",
    "# Retrieve the IAM role for SageMaker execution. This role defines permissions for accessing resources.\n",
    "role = get_execution_role()\n",
    "\n",
    "# Initialize a SageMaker session, which handles interactions with SageMaker resources in AWS.\n",
    "sagemaker_session = Session() \n",
    "\n",
    "# Get the AWS region of the current session to align resources to the appropriate region.\n",
    "region = sagemaker_session.boto_region_name\n",
    "\n",
    "# Define the S3 bucket for storage, using SageMaker's default bucket in this region.\n",
    "s3_bucket_name = sagemaker_session.default_bucket()\n",
    "\n",
    "# Print the bucket name, region, and role to verify configurations.\n",
    "print(\"S3 Bucket Name:\", s3_bucket_name)\n",
    "print(\"AWS Region:\", region)\n",
    "print(\"IAM Role:\", role)\n"
   ]
  },
  {
   "cell_type": "markdown",
   "id": "1a5b6356-eb5a-49be-b0cb-b742a8d580e5",
   "metadata": {},
   "source": [
    "### Loading Customer and Order Data"
   ]
  },
  {
   "cell_type": "code",
   "execution_count": 3,
   "id": "7b5f3e4c-d377-4879-bd1e-21516b3c9790",
   "metadata": {},
   "outputs": [],
   "source": [
    "# Load customer data from CSV file\n",
    "customer_data = pd.read_csv(\"customers.csv\") \n",
    "\n",
    "# Load order data from CSV file\n",
    "orders_data = pd.read_csv(\"orders.csv\")\n"
   ]
  },
  {
   "cell_type": "markdown",
   "id": "c8ae255d-4a74-4896-a2f5-07d93218339f",
   "metadata": {},
   "source": [
    "### Displaying the First Few Rows of Customer Data"
   ]
  },
  {
   "cell_type": "code",
   "execution_count": 4,
   "id": "2d02265b-dcda-4459-83f9-08a3f1e28be5",
   "metadata": {},
   "outputs": [
    {
     "data": {
      "text/html": [
       "<div>\n",
       "<style scoped>\n",
       "    .dataframe tbody tr th:only-of-type {\n",
       "        vertical-align: middle;\n",
       "    }\n",
       "\n",
       "    .dataframe tbody tr th {\n",
       "        vertical-align: top;\n",
       "    }\n",
       "\n",
       "    .dataframe thead th {\n",
       "        text-align: right;\n",
       "    }\n",
       "</style>\n",
       "<table border=\"1\" class=\"dataframe\">\n",
       "  <thead>\n",
       "    <tr style=\"text-align: right;\">\n",
       "      <th></th>\n",
       "      <th>customer_id</th>\n",
       "      <th>sex</th>\n",
       "      <th>is_married</th>\n",
       "      <th>event_time</th>\n",
       "      <th>age_18-29</th>\n",
       "      <th>age_30-39</th>\n",
       "      <th>age_40-49</th>\n",
       "      <th>age_50-59</th>\n",
       "      <th>age_60-69</th>\n",
       "      <th>age_70-plus</th>\n",
       "      <th>n_days_active</th>\n",
       "    </tr>\n",
       "  </thead>\n",
       "  <tbody>\n",
       "    <tr>\n",
       "      <th>0</th>\n",
       "      <td>C1</td>\n",
       "      <td>0</td>\n",
       "      <td>1</td>\n",
       "      <td>2024-05-02T05:39:10.965Z</td>\n",
       "      <td>0</td>\n",
       "      <td>0</td>\n",
       "      <td>0</td>\n",
       "      <td>0</td>\n",
       "      <td>0</td>\n",
       "      <td>1</td>\n",
       "      <td>0.203425</td>\n",
       "    </tr>\n",
       "    <tr>\n",
       "      <th>1</th>\n",
       "      <td>C2</td>\n",
       "      <td>1</td>\n",
       "      <td>1</td>\n",
       "      <td>2024-05-02T05:39:10.966Z</td>\n",
       "      <td>0</td>\n",
       "      <td>0</td>\n",
       "      <td>0</td>\n",
       "      <td>0</td>\n",
       "      <td>0</td>\n",
       "      <td>1</td>\n",
       "      <td>0.859589</td>\n",
       "    </tr>\n",
       "    <tr>\n",
       "      <th>2</th>\n",
       "      <td>C3</td>\n",
       "      <td>1</td>\n",
       "      <td>1</td>\n",
       "      <td>2024-05-02T05:39:10.967Z</td>\n",
       "      <td>0</td>\n",
       "      <td>1</td>\n",
       "      <td>0</td>\n",
       "      <td>0</td>\n",
       "      <td>0</td>\n",
       "      <td>0</td>\n",
       "      <td>0.527397</td>\n",
       "    </tr>\n",
       "    <tr>\n",
       "      <th>3</th>\n",
       "      <td>C4</td>\n",
       "      <td>1</td>\n",
       "      <td>0</td>\n",
       "      <td>2024-05-02T05:39:10.967Z</td>\n",
       "      <td>0</td>\n",
       "      <td>0</td>\n",
       "      <td>0</td>\n",
       "      <td>0</td>\n",
       "      <td>1</td>\n",
       "      <td>0</td>\n",
       "      <td>0.780822</td>\n",
       "    </tr>\n",
       "    <tr>\n",
       "      <th>4</th>\n",
       "      <td>C5</td>\n",
       "      <td>1</td>\n",
       "      <td>0</td>\n",
       "      <td>2024-05-02T05:39:10.968Z</td>\n",
       "      <td>0</td>\n",
       "      <td>0</td>\n",
       "      <td>0</td>\n",
       "      <td>0</td>\n",
       "      <td>1</td>\n",
       "      <td>0</td>\n",
       "      <td>0.691096</td>\n",
       "    </tr>\n",
       "  </tbody>\n",
       "</table>\n",
       "</div>"
      ],
      "text/plain": [
       "  customer_id  sex  is_married                event_time  age_18-29  \\\n",
       "0          C1    0           1  2024-05-02T05:39:10.965Z          0   \n",
       "1          C2    1           1  2024-05-02T05:39:10.966Z          0   \n",
       "2          C3    1           1  2024-05-02T05:39:10.967Z          0   \n",
       "3          C4    1           0  2024-05-02T05:39:10.967Z          0   \n",
       "4          C5    1           0  2024-05-02T05:39:10.968Z          0   \n",
       "\n",
       "   age_30-39  age_40-49  age_50-59  age_60-69  age_70-plus  n_days_active  \n",
       "0          0          0          0          0            1       0.203425  \n",
       "1          0          0          0          0            1       0.859589  \n",
       "2          1          0          0          0            0       0.527397  \n",
       "3          0          0          0          1            0       0.780822  \n",
       "4          0          0          0          1            0       0.691096  "
      ]
     },
     "execution_count": 4,
     "metadata": {},
     "output_type": "execute_result"
    }
   ],
   "source": [
    "# Display the first five rows of the customer_data DataFrame to inspect the data\n",
    "customer_data.head()"
   ]
  },
  {
   "cell_type": "markdown",
   "id": "a9a3aeab-db06-4abb-b5cc-04c61a6d6ae7",
   "metadata": {},
   "source": [
    "### Displaying the First Few Rows of Order Data"
   ]
  },
  {
   "cell_type": "code",
   "execution_count": 5,
   "id": "9e71ed79-098d-4b9e-a4b2-a109addf8ad3",
   "metadata": {},
   "outputs": [
    {
     "data": {
      "text/html": [
       "<div>\n",
       "<style scoped>\n",
       "    .dataframe tbody tr th:only-of-type {\n",
       "        vertical-align: middle;\n",
       "    }\n",
       "\n",
       "    .dataframe tbody tr th {\n",
       "        vertical-align: top;\n",
       "    }\n",
       "\n",
       "    .dataframe thead th {\n",
       "        text-align: right;\n",
       "    }\n",
       "</style>\n",
       "<table border=\"1\" class=\"dataframe\">\n",
       "  <thead>\n",
       "    <tr style=\"text-align: right;\">\n",
       "      <th></th>\n",
       "      <th>order_id</th>\n",
       "      <th>customer_id</th>\n",
       "      <th>product_id</th>\n",
       "      <th>purchase_amount</th>\n",
       "      <th>is_reordered</th>\n",
       "      <th>event_time</th>\n",
       "      <th>n_days_since_last_purchase</th>\n",
       "    </tr>\n",
       "  </thead>\n",
       "  <tbody>\n",
       "    <tr>\n",
       "      <th>0</th>\n",
       "      <td>O1</td>\n",
       "      <td>C9765</td>\n",
       "      <td>P11660</td>\n",
       "      <td>0.572673</td>\n",
       "      <td>0</td>\n",
       "      <td>2024-05-02T03:53:40.523Z</td>\n",
       "      <td>0.273256</td>\n",
       "    </tr>\n",
       "    <tr>\n",
       "      <th>1</th>\n",
       "      <td>O2</td>\n",
       "      <td>C3674</td>\n",
       "      <td>P6868</td>\n",
       "      <td>0.693861</td>\n",
       "      <td>0</td>\n",
       "      <td>2024-05-02T03:53:40.523Z</td>\n",
       "      <td>0.846899</td>\n",
       "    </tr>\n",
       "    <tr>\n",
       "      <th>2</th>\n",
       "      <td>O3</td>\n",
       "      <td>C2139</td>\n",
       "      <td>P4749</td>\n",
       "      <td>0.556139</td>\n",
       "      <td>1</td>\n",
       "      <td>2024-05-02T03:53:40.523Z</td>\n",
       "      <td>0.408915</td>\n",
       "    </tr>\n",
       "    <tr>\n",
       "      <th>3</th>\n",
       "      <td>O4</td>\n",
       "      <td>C7794</td>\n",
       "      <td>P542</td>\n",
       "      <td>0.043069</td>\n",
       "      <td>1</td>\n",
       "      <td>2024-05-02T03:53:40.523Z</td>\n",
       "      <td>0.843023</td>\n",
       "    </tr>\n",
       "    <tr>\n",
       "      <th>4</th>\n",
       "      <td>O5</td>\n",
       "      <td>C2229</td>\n",
       "      <td>P7605</td>\n",
       "      <td>0.463861</td>\n",
       "      <td>1</td>\n",
       "      <td>2024-05-02T03:53:40.523Z</td>\n",
       "      <td>0.265504</td>\n",
       "    </tr>\n",
       "  </tbody>\n",
       "</table>\n",
       "</div>"
      ],
      "text/plain": [
       "  order_id customer_id product_id  purchase_amount  is_reordered  \\\n",
       "0       O1       C9765     P11660         0.572673             0   \n",
       "1       O2       C3674      P6868         0.693861             0   \n",
       "2       O3       C2139      P4749         0.556139             1   \n",
       "3       O4       C7794       P542         0.043069             1   \n",
       "4       O5       C2229      P7605         0.463861             1   \n",
       "\n",
       "                 event_time  n_days_since_last_purchase  \n",
       "0  2024-05-02T03:53:40.523Z                    0.273256  \n",
       "1  2024-05-02T03:53:40.523Z                    0.846899  \n",
       "2  2024-05-02T03:53:40.523Z                    0.408915  \n",
       "3  2024-05-02T03:53:40.523Z                    0.843023  \n",
       "4  2024-05-02T03:53:40.523Z                    0.265504  "
      ]
     },
     "execution_count": 5,
     "metadata": {},
     "output_type": "execute_result"
    }
   ],
   "source": [
    "# Display the first five rows of the orders_data DataFrame to inspect the data\n",
    "orders_data.head()"
   ]
  },
  {
   "cell_type": "markdown",
   "id": "ebe06d13-ee22-48e1-9e5b-02905957236c",
   "metadata": {},
   "source": [
    "### Creating Unique Feature Group Names for Customers and Orders"
   ]
  },
  {
   "cell_type": "code",
   "execution_count": 6,
   "id": "3faa27ae-9037-47c6-aa4a-4a95ff39add9",
   "metadata": {},
   "outputs": [
    {
     "name": "stdout",
     "output_type": "stream",
     "text": [
      "Customers Feature Group Name: customers-fg-06-13-17-50\n",
      "Orders Feature Group Name: orders-fg-06-13-17-50\n"
     ]
    }
   ],
   "source": [
    "from time import gmtime, strftime, sleep\n",
    "\n",
    "# Generate a unique feature group name for customers using the current GMT time\n",
    "customers_feature_group_name = \"customers-fg-\" + strftime(\"%d-%H-%M-%S\", gmtime()) \n",
    "\n",
    "# Generate a unique feature group name for orders using the current GMT time\n",
    "orders_feature_group_name = \"orders-fg-\" + strftime(\"%d-%H-%M-%S\", gmtime())\n",
    "\n",
    "# Display the generated feature group names\n",
    "print(\"Customers Feature Group Name:\", customers_feature_group_name)\n",
    "print(\"Orders Feature Group Name:\", orders_feature_group_name)\n",
    "\n"
   ]
  },
  {
   "cell_type": "markdown",
   "id": "6aff5cfd-e281-4ab7-a94d-b28e8d27339d",
   "metadata": {},
   "source": [
    "### Creating Feature Groups in Amazon SageMaker"
   ]
  },
  {
   "cell_type": "code",
   "execution_count": 7,
   "id": "421eb86d-899f-4bff-8610-26ec309f679e",
   "metadata": {},
   "outputs": [],
   "source": [
    "from sagemaker.feature_store.feature_group import FeatureGroup\n",
    "\n",
    "# Create a FeatureGroup object for customers using the unique feature group name\n",
    "customers_feature_group = FeatureGroup(\n",
    "    name=customers_feature_group_name, \n",
    "    sagemaker_session=sagemaker_session\n",
    ")\n",
    "\n",
    "# Create a FeatureGroup object for orders using the unique feature group name\n",
    "orders_feature_group = FeatureGroup(\n",
    "    name=orders_feature_group_name, \n",
    "    sagemaker_session=sagemaker_session\n",
    ")"
   ]
  },
  {
   "cell_type": "markdown",
   "id": "12d62be6-e537-4bf7-96d4-5fc85d3153be",
   "metadata": {},
   "source": [
    "### Defining Record Identifier for Customer & Orders Feature Group"
   ]
  },
  {
   "cell_type": "code",
   "execution_count": 8,
   "id": "03fb5723-c072-4085-b3e6-f3d149987f68",
   "metadata": {},
   "outputs": [],
   "source": [
    "# Define the record identifier feature name for the customer & orders feature group\n",
    "record_identifier_feature_name = \"customer_id\""
   ]
  },
  {
   "cell_type": "markdown",
   "id": "32587117-e002-4e56-b092-16bf09bb67c6",
   "metadata": {},
   "source": [
    "### Displaying Summary Information of Order Data"
   ]
  },
  {
   "cell_type": "code",
   "execution_count": 9,
   "id": "b81368f4-36ea-4a52-aefb-b2fdb21670e5",
   "metadata": {},
   "outputs": [
    {
     "name": "stdout",
     "output_type": "stream",
     "text": [
      "<class 'pandas.core.frame.DataFrame'>\n",
      "RangeIndex: 100000 entries, 0 to 99999\n",
      "Data columns (total 7 columns):\n",
      " #   Column                      Non-Null Count   Dtype  \n",
      "---  ------                      --------------   -----  \n",
      " 0   order_id                    100000 non-null  object \n",
      " 1   customer_id                 100000 non-null  object \n",
      " 2   product_id                  100000 non-null  object \n",
      " 3   purchase_amount             100000 non-null  float64\n",
      " 4   is_reordered                100000 non-null  int64  \n",
      " 5   event_time                  100000 non-null  object \n",
      " 6   n_days_since_last_purchase  100000 non-null  float64\n",
      "dtypes: float64(2), int64(1), object(4)\n",
      "memory usage: 5.3+ MB\n"
     ]
    }
   ],
   "source": [
    "# Display summary information about the orders_data DataFrame\n",
    "orders_data.info()"
   ]
  },
  {
   "cell_type": "markdown",
   "id": "6fd0580e-7d95-4ed5-a77f-e0578f8508f1",
   "metadata": {},
   "source": [
    "### Loading Feature Definitions for Customer and Order Feature Groups"
   ]
  },
  {
   "cell_type": "code",
   "execution_count": 10,
   "id": "30424bbc-33f6-4ef2-a136-3ac80373c322",
   "metadata": {},
   "outputs": [
    {
     "data": {
      "text/plain": [
       "[FeatureDefinition(feature_name='order_id', feature_type=<FeatureTypeEnum.STRING: 'String'>, collection_type=None),\n",
       " FeatureDefinition(feature_name='customer_id', feature_type=<FeatureTypeEnum.STRING: 'String'>, collection_type=None),\n",
       " FeatureDefinition(feature_name='product_id', feature_type=<FeatureTypeEnum.STRING: 'String'>, collection_type=None),\n",
       " FeatureDefinition(feature_name='purchase_amount', feature_type=<FeatureTypeEnum.FRACTIONAL: 'Fractional'>, collection_type=None),\n",
       " FeatureDefinition(feature_name='is_reordered', feature_type=<FeatureTypeEnum.INTEGRAL: 'Integral'>, collection_type=None),\n",
       " FeatureDefinition(feature_name='event_time', feature_type=<FeatureTypeEnum.STRING: 'String'>, collection_type=None),\n",
       " FeatureDefinition(feature_name='n_days_since_last_purchase', feature_type=<FeatureTypeEnum.FRACTIONAL: 'Fractional'>, collection_type=None)]"
      ]
     },
     "execution_count": 10,
     "metadata": {},
     "output_type": "execute_result"
    }
   ],
   "source": [
    "# Load feature definitions into the customer feature group from the customer_data DataFrame\n",
    "customers_feature_group.load_feature_definitions(data_frame=customer_data)\n",
    "\n",
    "# Load feature definitions into the order feature group from the orders_data DataFrame\n",
    "orders_feature_group.load_feature_definitions(data_frame=orders_data)"
   ]
  },
  {
   "cell_type": "markdown",
   "id": "09ec3f8f-d3c6-4877-942e-d2d52f839ca1",
   "metadata": {},
   "source": [
    "### Creating Customer Feature Group in Amazon SageMaker Feature Store"
   ]
  },
  {
   "cell_type": "code",
   "execution_count": 11,
   "id": "ad57abd6-0d62-4dc2-b09e-aea96dc25de2",
   "metadata": {},
   "outputs": [
    {
     "data": {
      "text/plain": [
       "{'FeatureGroupArn': 'arn:aws:sagemaker:us-east-1:607119565685:feature-group/customers-fg-06-13-17-50',\n",
       " 'ResponseMetadata': {'RequestId': 'b2944222-8965-457b-952d-495205cb2c94',\n",
       "  'HTTPStatusCode': 200,\n",
       "  'HTTPHeaders': {'x-amzn-requestid': 'b2944222-8965-457b-952d-495205cb2c94',\n",
       "   'content-type': 'application/x-amz-json-1.1',\n",
       "   'content-length': '101',\n",
       "   'date': 'Wed, 06 Nov 2024 13:17:59 GMT'},\n",
       "  'RetryAttempts': 0}}"
      ]
     },
     "execution_count": 11,
     "metadata": {},
     "output_type": "execute_result"
    }
   ],
   "source": [
    "# Create the customer feature group in Amazon SageMaker Feature Store\n",
    "customers_feature_group.create(\n",
    "    s3_uri=f\"s3://{s3_bucket_name}/{prefix}\",  # S3 URI for storing feature group data\n",
    "    record_identifier_name=record_identifier_feature_name,  # Name of the record identifier feature\n",
    "    event_time_feature_name=\"event_time\",  # Name of the event time feature\n",
    "    role_arn=role,  # IAM role with permissions to access the feature store\n",
    "    enable_online_store=True  # Enable online store for real-time access\n",
    ")"
   ]
  },
  {
   "cell_type": "markdown",
   "id": "d1d75824-986b-4c80-9e98-5c3cff0b6ccd",
   "metadata": {},
   "source": [
    "### Creating Order Feature Group in Amazon SageMaker Feature Store"
   ]
  },
  {
   "cell_type": "code",
   "execution_count": 12,
   "id": "4bbe12cb-e7cb-4665-9186-7c69bb9a7cb1",
   "metadata": {},
   "outputs": [
    {
     "data": {
      "text/plain": [
       "{'FeatureGroupArn': 'arn:aws:sagemaker:us-east-1:607119565685:feature-group/orders-fg-06-13-17-50',\n",
       " 'ResponseMetadata': {'RequestId': 'e90f9917-46a6-4cab-920a-57f55448fdff',\n",
       "  'HTTPStatusCode': 200,\n",
       "  'HTTPHeaders': {'x-amzn-requestid': 'e90f9917-46a6-4cab-920a-57f55448fdff',\n",
       "   'content-type': 'application/x-amz-json-1.1',\n",
       "   'content-length': '98',\n",
       "   'date': 'Wed, 06 Nov 2024 13:18:01 GMT'},\n",
       "  'RetryAttempts': 0}}"
      ]
     },
     "execution_count": 12,
     "metadata": {},
     "output_type": "execute_result"
    }
   ],
   "source": [
    "# Create the order feature group in Amazon SageMaker Feature Store\n",
    "orders_feature_group.create(\n",
    "    s3_uri=f\"s3://{s3_bucket_name}/{prefix}\",  # S3 URI for storing feature group data\n",
    "    record_identifier_name=record_identifier_feature_name,  # Name of the record identifier feature\n",
    "    event_time_feature_name=\"event_time\",  # Name of the event time feature\n",
    "    role_arn=role,  # IAM role with permissions to access the feature store\n",
    "    enable_online_store=True  # Enable online store for real-time access\n",
    ")"
   ]
  },
  {
   "cell_type": "markdown",
   "id": "ddf1833d-1b60-40d7-9059-c1a0491d8776",
   "metadata": {},
   "source": [
    "### Describing the Customer Feature Group"
   ]
  },
  {
   "cell_type": "code",
   "execution_count": 13,
   "id": "24549330-f8ee-401d-ad8b-d8a8f9a7ee5f",
   "metadata": {},
   "outputs": [
    {
     "data": {
      "text/plain": [
       "{'FeatureGroupArn': 'arn:aws:sagemaker:us-east-1:607119565685:feature-group/customers-fg-06-13-17-50',\n",
       " 'FeatureGroupName': 'customers-fg-06-13-17-50',\n",
       " 'RecordIdentifierFeatureName': 'customer_id',\n",
       " 'EventTimeFeatureName': 'event_time',\n",
       " 'FeatureDefinitions': [{'FeatureName': 'customer_id',\n",
       "   'FeatureType': 'String'},\n",
       "  {'FeatureName': 'sex', 'FeatureType': 'Integral'},\n",
       "  {'FeatureName': 'is_married', 'FeatureType': 'Integral'},\n",
       "  {'FeatureName': 'event_time', 'FeatureType': 'String'},\n",
       "  {'FeatureName': 'age_18-29', 'FeatureType': 'Integral'},\n",
       "  {'FeatureName': 'age_30-39', 'FeatureType': 'Integral'},\n",
       "  {'FeatureName': 'age_40-49', 'FeatureType': 'Integral'},\n",
       "  {'FeatureName': 'age_50-59', 'FeatureType': 'Integral'},\n",
       "  {'FeatureName': 'age_60-69', 'FeatureType': 'Integral'},\n",
       "  {'FeatureName': 'age_70-plus', 'FeatureType': 'Integral'},\n",
       "  {'FeatureName': 'n_days_active', 'FeatureType': 'Fractional'}],\n",
       " 'CreationTime': datetime.datetime(2024, 11, 6, 13, 17, 59, 343000, tzinfo=tzlocal()),\n",
       " 'OnlineStoreConfig': {'EnableOnlineStore': True},\n",
       " 'OfflineStoreConfig': {'S3StorageConfig': {'S3Uri': 's3://sagemaker-us-east-1-607119565685/aws-mlops-sagemaker',\n",
       "   'ResolvedOutputS3Uri': 's3://sagemaker-us-east-1-607119565685/aws-mlops-sagemaker/607119565685/sagemaker/us-east-1/offline-store/customers-fg-06-13-17-50-1730899079/data'},\n",
       "  'DisableGlueTableCreation': False},\n",
       " 'ThroughputConfig': {'ThroughputMode': 'OnDemand'},\n",
       " 'RoleArn': 'arn:aws:iam::607119565685:role/LearnMlOpsSageMakerExecutionRole',\n",
       " 'FeatureGroupStatus': 'Creating',\n",
       " 'ResponseMetadata': {'RequestId': '5c1430bd-0951-431c-879d-505bd55da576',\n",
       "  'HTTPStatusCode': 200,\n",
       "  'HTTPHeaders': {'x-amzn-requestid': '5c1430bd-0951-431c-879d-505bd55da576',\n",
       "   'content-type': 'application/x-amz-json-1.1',\n",
       "   'content-length': '1810',\n",
       "   'date': 'Wed, 06 Nov 2024 13:18:03 GMT'},\n",
       "  'RetryAttempts': 0}}"
      ]
     },
     "execution_count": 13,
     "metadata": {},
     "output_type": "execute_result"
    }
   ],
   "source": [
    "# Display the details and schema of the customer feature group\n",
    "customers_feature_group.describe()"
   ]
  },
  {
   "cell_type": "markdown",
   "id": "1d1355fe-e897-45f8-b8d3-6fad4ecf0891",
   "metadata": {},
   "source": [
    "### Describing the Order Feature Group"
   ]
  },
  {
   "cell_type": "code",
   "execution_count": 14,
   "id": "342bd106-afdf-4da3-bc80-1d04336433b3",
   "metadata": {},
   "outputs": [
    {
     "data": {
      "text/plain": [
       "{'FeatureGroupArn': 'arn:aws:sagemaker:us-east-1:607119565685:feature-group/orders-fg-06-13-17-50',\n",
       " 'FeatureGroupName': 'orders-fg-06-13-17-50',\n",
       " 'RecordIdentifierFeatureName': 'customer_id',\n",
       " 'EventTimeFeatureName': 'event_time',\n",
       " 'FeatureDefinitions': [{'FeatureName': 'order_id', 'FeatureType': 'String'},\n",
       "  {'FeatureName': 'customer_id', 'FeatureType': 'String'},\n",
       "  {'FeatureName': 'product_id', 'FeatureType': 'String'},\n",
       "  {'FeatureName': 'purchase_amount', 'FeatureType': 'Fractional'},\n",
       "  {'FeatureName': 'is_reordered', 'FeatureType': 'Integral'},\n",
       "  {'FeatureName': 'event_time', 'FeatureType': 'String'},\n",
       "  {'FeatureName': 'n_days_since_last_purchase', 'FeatureType': 'Fractional'}],\n",
       " 'CreationTime': datetime.datetime(2024, 11, 6, 13, 18, 1, 600000, tzinfo=tzlocal()),\n",
       " 'OnlineStoreConfig': {'EnableOnlineStore': True},\n",
       " 'OfflineStoreConfig': {'S3StorageConfig': {'S3Uri': 's3://sagemaker-us-east-1-607119565685/aws-mlops-sagemaker',\n",
       "   'ResolvedOutputS3Uri': 's3://sagemaker-us-east-1-607119565685/aws-mlops-sagemaker/607119565685/sagemaker/us-east-1/offline-store/orders-fg-06-13-17-50-1730899081/data'},\n",
       "  'DisableGlueTableCreation': False},\n",
       " 'ThroughputConfig': {'ThroughputMode': 'OnDemand'},\n",
       " 'RoleArn': 'arn:aws:iam::607119565685:role/LearnMlOpsSageMakerExecutionRole',\n",
       " 'FeatureGroupStatus': 'Creating',\n",
       " 'ResponseMetadata': {'RequestId': '3019b1ac-022f-4722-8193-918d038d5830',\n",
       "  'HTTPStatusCode': 200,\n",
       "  'HTTPHeaders': {'x-amzn-requestid': '3019b1ac-022f-4722-8193-918d038d5830',\n",
       "   'content-type': 'application/x-amz-json-1.1',\n",
       "   'content-length': '1610',\n",
       "   'date': 'Wed, 06 Nov 2024 13:18:06 GMT'},\n",
       "  'RetryAttempts': 0}}"
      ]
     },
     "execution_count": 14,
     "metadata": {},
     "output_type": "execute_result"
    }
   ],
   "source": [
    "# Display the details and schema of the order feature group\n",
    "orders_feature_group.describe() "
   ]
  },
  {
   "cell_type": "markdown",
   "id": "05cdeb76-c49f-45a7-80da-bbe2ef79a9e6",
   "metadata": {},
   "source": [
    "### Updating Metadata for Customer Feature in Feature Group"
   ]
  },
  {
   "cell_type": "code",
   "execution_count": 16,
   "id": "ca135375-4039-4155-8a45-d7e91210f046",
   "metadata": {},
   "outputs": [
    {
     "data": {
      "text/plain": [
       "{'ResponseMetadata': {'RequestId': 'ded25036-ba1d-4137-9b13-ba7187d41352',\n",
       "  'HTTPStatusCode': 200,\n",
       "  'HTTPHeaders': {'x-amzn-requestid': 'ded25036-ba1d-4137-9b13-ba7187d41352',\n",
       "   'content-type': 'application/x-amz-json-1.1',\n",
       "   'date': 'Wed, 06 Nov 2024 13:20:11 GMT',\n",
       "   'content-length': '0'},\n",
       "  'RetryAttempts': 0}}"
      ]
     },
     "execution_count": 16,
     "metadata": {},
     "output_type": "execute_result"
    }
   ],
   "source": [
    "from sagemaker.feature_store.inputs import FeatureParameter\n",
    "\n",
    "# Update the metadata for the 'customer_id' feature in the customer feature group\n",
    "customers_feature_group.update_feature_metadata(\n",
    "    feature_name=\"customer_id\",  # Name of the feature to update\n",
    "    description=\"The ID of the customer, it is also part of the Order feature group\",  # Description of the feature\n",
    "    parameter_additions=[FeatureParameter(\"idType\", \"primarykey\")]  # Additional parameters for the feature\n",
    ")"
   ]
  },
  {
   "cell_type": "markdown",
   "id": "730b6c4f-27f4-4f17-b339-5a6f1a871e16",
   "metadata": {},
   "source": [
    "### Describing Metadata for Customer ID Feature"
   ]
  },
  {
   "cell_type": "code",
   "execution_count": 17,
   "id": "a054277d-aa6d-4100-ab8a-76a2463761ab",
   "metadata": {},
   "outputs": [
    {
     "data": {
      "text/plain": [
       "{'FeatureGroupArn': 'arn:aws:sagemaker:us-east-1:607119565685:feature-group/customers-fg-06-13-17-50',\n",
       " 'FeatureGroupName': 'customers-fg-06-13-17-50',\n",
       " 'FeatureName': 'customer_id',\n",
       " 'FeatureType': 'String',\n",
       " 'CreationTime': datetime.datetime(2024, 11, 6, 13, 17, 59, 343000, tzinfo=tzlocal()),\n",
       " 'LastModifiedTime': datetime.datetime(2024, 11, 6, 13, 20, 12, 114000, tzinfo=tzlocal()),\n",
       " 'Description': 'The ID of the customer, it is also part of the Order feature group',\n",
       " 'Parameters': [{'Key': 'idType', 'Value': 'primarykey'}],\n",
       " 'ResponseMetadata': {'RequestId': '5a483891-8e21-4b28-9016-5162e4a569a6',\n",
       "  'HTTPStatusCode': 200,\n",
       "  'HTTPHeaders': {'x-amzn-requestid': '5a483891-8e21-4b28-9016-5162e4a569a6',\n",
       "   'content-type': 'application/x-amz-json-1.1',\n",
       "   'content-length': '402',\n",
       "   'date': 'Wed, 06 Nov 2024 13:20:14 GMT'},\n",
       "  'RetryAttempts': 0}}"
      ]
     },
     "execution_count": 17,
     "metadata": {},
     "output_type": "execute_result"
    }
   ],
   "source": [
    "# Retrieve and display metadata for the 'customer_id' feature in the customer feature group\n",
    "customers_feature_group.describe_feature_metadata(\"customer_id\")"
   ]
  },
  {
   "cell_type": "markdown",
   "id": "8df062dc-1f61-4cc8-b354-8ed9968fa8d8",
   "metadata": {},
   "source": [
    "### Searching for Feature Metadata in Amazon SageMaker"
   ]
  },
  {
   "cell_type": "code",
   "execution_count": 18,
   "id": "61921a91-0621-474b-a639-f3cd405007aa",
   "metadata": {},
   "outputs": [
    {
     "data": {
      "text/plain": [
       "{'Results': [{'FeatureMetadata': {'FeatureGroupArn': 'arn:aws:sagemaker:us-east-1:607119565685:feature-group/customers-fg-06-13-17-50',\n",
       "    'FeatureGroupName': 'customers-fg-06-13-17-50',\n",
       "    'FeatureName': 'customer_id',\n",
       "    'FeatureType': 'String',\n",
       "    'CreationTime': datetime.datetime(2024, 11, 6, 13, 17, 59, tzinfo=tzlocal()),\n",
       "    'LastModifiedTime': datetime.datetime(2024, 11, 6, 13, 20, 12, tzinfo=tzlocal()),\n",
       "    'Description': 'The ID of the customer, it is also part of the Order feature group',\n",
       "    'Parameters': [{'Key': 'idType', 'Value': 'primarykey'}]}},\n",
       "  {'FeatureMetadata': {'FeatureGroupArn': 'arn:aws:sagemaker:us-east-1:607119565685:feature-group/customers-fg-05-14-48-07',\n",
       "    'FeatureGroupName': 'customers-fg-05-14-48-07',\n",
       "    'FeatureName': 'customer_id',\n",
       "    'FeatureType': 'String',\n",
       "    'CreationTime': datetime.datetime(2024, 11, 5, 14, 52, 45, tzinfo=tzlocal()),\n",
       "    'LastModifiedTime': datetime.datetime(2024, 11, 5, 14, 55, 28, tzinfo=tzlocal()),\n",
       "    'Description': 'The ID of the customer, it is also part of the Order feature group',\n",
       "    'Parameters': [{'Key': 'idType', 'Value': 'primarykey'}]}},\n",
       "  {'FeatureMetadata': {'FeatureGroupArn': 'arn:aws:sagemaker:us-east-1:607119565685:feature-group/customers-fg-05-14-02-24',\n",
       "    'FeatureGroupName': 'customers-fg-05-14-02-24',\n",
       "    'FeatureName': 'customer_id',\n",
       "    'FeatureType': 'String',\n",
       "    'CreationTime': datetime.datetime(2024, 11, 5, 14, 4, 36, tzinfo=tzlocal()),\n",
       "    'LastModifiedTime': datetime.datetime(2024, 11, 5, 14, 6, 32, tzinfo=tzlocal()),\n",
       "    'Description': 'The ID of the customer, it is also part of Order feature group',\n",
       "    'Parameters': [{'Key': 'idType', 'Value': 'primarykey'}]}}],\n",
       " 'ResponseMetadata': {'RequestId': 'e3525314-6072-4de9-9a2b-34545540eb75',\n",
       "  'HTTPStatusCode': 200,\n",
       "  'HTTPHeaders': {'x-amzn-requestid': 'e3525314-6072-4de9-9a2b-34545540eb75',\n",
       "   'content-type': 'application/x-amz-json-1.1',\n",
       "   'content-length': '1368',\n",
       "   'date': 'Wed, 06 Nov 2024 13:20:16 GMT'},\n",
       "  'RetryAttempts': 0}}"
      ]
     },
     "execution_count": 18,
     "metadata": {},
     "output_type": "execute_result"
    }
   ],
   "source": [
    "# Search for feature metadata in SageMaker using specified filters\n",
    "search_results = sagemaker_session.boto_session.client(\"sagemaker\", region_name=region).search(\n",
    "    Resource=\"FeatureMetadata\",\n",
    "    SearchExpression={\n",
    "        \"Filters\": [\n",
    "            {\n",
    "                \"Name\": \"FeatureGroupName\",  # Filter by feature group name\n",
    "                \"Operator\": \"Contains\",  # Operator to match feature group names\n",
    "                \"Value\": \"customers-fg\"  # Value to match in the feature group name\n",
    "            },\n",
    "            {\n",
    "                \"Name\": \"Parameters.idType\",  # Filter by feature parameter\n",
    "                \"Operator\": \"Equals\",  # Operator to match parameter values\n",
    "                \"Value\": \"primarykey\"  # Value to match the parameter type\n",
    "            }\n",
    "        ]\n",
    "    }\n",
    ")\n",
    "search_results"
   ]
  },
  {
   "cell_type": "markdown",
   "id": "91f38cc9-a18b-48ae-9cfa-d69c21d7af76",
   "metadata": {},
   "source": [
    "# Ingest the data to the Feature Group"
   ]
  },
  {
   "cell_type": "markdown",
   "id": "69efa1b7-34f0-40da-b1bf-aaf014aa864d",
   "metadata": {},
   "source": [
    "### Ingesting Customer Data into the Feature Group"
   ]
  },
  {
   "cell_type": "code",
   "execution_count": 19,
   "id": "9a04c912-70ec-4efc-9fcd-18c7b0cf681f",
   "metadata": {},
   "outputs": [
    {
     "data": {
      "text/plain": [
       "IngestionManagerPandas(feature_group_name='customers-fg-06-13-17-50', feature_definitions={'customer_id': {'FeatureName': 'customer_id', 'FeatureType': 'String'}, 'sex': {'FeatureName': 'sex', 'FeatureType': 'Integral'}, 'is_married': {'FeatureName': 'is_married', 'FeatureType': 'Integral'}, 'event_time': {'FeatureName': 'event_time', 'FeatureType': 'String'}, 'age_18-29': {'FeatureName': 'age_18-29', 'FeatureType': 'Integral'}, 'age_30-39': {'FeatureName': 'age_30-39', 'FeatureType': 'Integral'}, 'age_40-49': {'FeatureName': 'age_40-49', 'FeatureType': 'Integral'}, 'age_50-59': {'FeatureName': 'age_50-59', 'FeatureType': 'Integral'}, 'age_60-69': {'FeatureName': 'age_60-69', 'FeatureType': 'Integral'}, 'age_70-plus': {'FeatureName': 'age_70-plus', 'FeatureType': 'Integral'}, 'n_days_active': {'FeatureName': 'n_days_active', 'FeatureType': 'Fractional'}}, sagemaker_fs_runtime_client_config=<botocore.config.Config object at 0x7f43e9bbbb10>, sagemaker_session=<sagemaker.session.Session object at 0x7f43ea6a5710>, max_workers=3, max_processes=1, profile_name=None, _async_result=<multiprocess.pool.MapResult object at 0x7f43e7c241d0>, _processing_pool=<pool ProcessPool(ncpus=1)>, _failed_indices=[])"
      ]
     },
     "execution_count": 19,
     "metadata": {},
     "output_type": "execute_result"
    }
   ],
   "source": [
    "# Ingest customer data into the customer feature group\n",
    "customers_feature_group.ingest(\n",
    "    data_frame=customer_data,  # DataFrame containing the customer data to be ingested\n",
    "    max_workers=3,  # Maximum number of concurrent workers to use for ingestion\n",
    "    wait=True  # Wait for the ingestion process to complete before proceeding\n",
    ")"
   ]
  },
  {
   "cell_type": "code",
   "execution_count": 20,
   "id": "891a2c3b-0196-4de1-80d2-799c0789a487",
   "metadata": {},
   "outputs": [
    {
     "data": {
      "text/plain": [
       "IngestionManagerPandas(feature_group_name='orders-fg-06-13-17-50', feature_definitions={'order_id': {'FeatureName': 'order_id', 'FeatureType': 'String'}, 'customer_id': {'FeatureName': 'customer_id', 'FeatureType': 'String'}, 'product_id': {'FeatureName': 'product_id', 'FeatureType': 'String'}, 'purchase_amount': {'FeatureName': 'purchase_amount', 'FeatureType': 'Fractional'}, 'is_reordered': {'FeatureName': 'is_reordered', 'FeatureType': 'Integral'}, 'event_time': {'FeatureName': 'event_time', 'FeatureType': 'String'}, 'n_days_since_last_purchase': {'FeatureName': 'n_days_since_last_purchase', 'FeatureType': 'Fractional'}}, sagemaker_fs_runtime_client_config=<botocore.config.Config object at 0x7f43e9bbbb10>, sagemaker_session=<sagemaker.session.Session object at 0x7f43ea6a5710>, max_workers=3, max_processes=1, profile_name=None, _async_result=<multiprocess.pool.MapResult object at 0x7f43e7879790>, _processing_pool=<pool ProcessPool(ncpus=1)>, _failed_indices=[])"
      ]
     },
     "execution_count": 20,
     "metadata": {},
     "output_type": "execute_result"
    }
   ],
   "source": [
    "# Ingest order data into the orders feature group\n",
    "orders_feature_group.ingest(\n",
    "    data_frame=orders_data,  # DataFrame containing the order data to be ingested\n",
    "    max_workers=3,  # Maximum number of concurrent workers to use for ingestion\n",
    "    wait=True  # Wait for the ingestion process to complete before proceeding\n",
    ")"
   ]
  },
  {
   "cell_type": "markdown",
   "id": "e1a4911d-5fc0-4e8a-bece-f3380485648b",
   "metadata": {},
   "source": [
    "### Retrieving a Sample Record from the Customer Feature Group"
   ]
  },
  {
   "cell_type": "code",
   "execution_count": 21,
   "id": "e705442c-e4bd-4942-bf38-4298d30570bd",
   "metadata": {},
   "outputs": [
    {
     "data": {
      "text/plain": [
       "{'ResponseMetadata': {'RequestId': '2dbc647d-a3b3-46c1-b914-846bfe1f3990',\n",
       "  'HTTPStatusCode': 200,\n",
       "  'HTTPHeaders': {'x-amzn-requestid': '2dbc647d-a3b3-46c1-b914-846bfe1f3990',\n",
       "   'content-type': 'application/json',\n",
       "   'content-length': '879',\n",
       "   'date': 'Wed, 06 Nov 2024 13:30:44 GMT'},\n",
       "  'RetryAttempts': 0},\n",
       " 'Record': [{'FeatureName': 'customer_id', 'ValueAsString': 'C400'},\n",
       "  {'FeatureName': 'sex', 'ValueAsString': '1'},\n",
       "  {'FeatureName': 'is_married', 'ValueAsString': '0'},\n",
       "  {'FeatureName': 'event_time', 'ValueAsString': '2024-05-02T05:39:11.217Z'},\n",
       "  {'FeatureName': 'age_18-29', 'ValueAsString': '1'},\n",
       "  {'FeatureName': 'age_30-39', 'ValueAsString': '0'},\n",
       "  {'FeatureName': 'age_40-49', 'ValueAsString': '0'},\n",
       "  {'FeatureName': 'age_50-59', 'ValueAsString': '0'},\n",
       "  {'FeatureName': 'age_60-69', 'ValueAsString': '0'},\n",
       "  {'FeatureName': 'age_70-plus', 'ValueAsString': '0'},\n",
       "  {'FeatureName': 'n_days_active', 'ValueAsString': '0.9787671232876712'}]}"
      ]
     },
     "execution_count": 21,
     "metadata": {},
     "output_type": "execute_result"
    }
   ],
   "source": [
    "# Define the customer ID for which to retrieve the record\n",
    "customer_id = \"C400\"\n",
    "\n",
    "# Retrieve a sample record from the customer feature group using the customer ID\n",
    "sample_record = sagemaker_session.boto_session.client(\n",
    "    \"sagemaker-featurestore-runtime\", region_name=region\n",
    ").get_record(\n",
    "    FeatureGroupName=customers_feature_group_name,  # Name of the feature group\n",
    "    RecordIdentifierValueAsString=str(customer_id)  # Customer ID to identify the record\n",
    ")\n",
    "\n",
    "# Display the retrieved sample record\n",
    "sample_record\n"
   ]
  },
  {
   "cell_type": "markdown",
   "id": "d9351dd0-0e0c-4317-a776-1601811bd729",
   "metadata": {},
   "source": [
    "### Batch Retrieving Records from Customer and Order Feature Groups"
   ]
  },
  {
   "cell_type": "code",
   "execution_count": 22,
   "id": "adcc2701-63ac-47c7-a90d-7a11f14e1e1d",
   "metadata": {},
   "outputs": [
    {
     "data": {
      "text/plain": [
       "{'ResponseMetadata': {'RequestId': 'd8482967-c6a7-4cbb-a2ab-3038dabc6951',\n",
       "  'HTTPStatusCode': 200,\n",
       "  'HTTPHeaders': {'x-amzn-requestid': 'd8482967-c6a7-4cbb-a2ab-3038dabc6951',\n",
       "   'content-type': 'application/json',\n",
       "   'content-length': '3426',\n",
       "   'date': 'Wed, 06 Nov 2024 13:30:53 GMT'},\n",
       "  'RetryAttempts': 0},\n",
       " 'Records': [{'FeatureGroupName': 'customers-fg-06-13-17-50',\n",
       "   'RecordIdentifierValueAsString': 'C400',\n",
       "   'Record': [{'FeatureName': 'customer_id', 'ValueAsString': 'C400'},\n",
       "    {'FeatureName': 'sex', 'ValueAsString': '1'},\n",
       "    {'FeatureName': 'is_married', 'ValueAsString': '0'},\n",
       "    {'FeatureName': 'event_time', 'ValueAsString': '2024-05-02T05:39:11.217Z'},\n",
       "    {'FeatureName': 'age_18-29', 'ValueAsString': '1'},\n",
       "    {'FeatureName': 'age_30-39', 'ValueAsString': '0'},\n",
       "    {'FeatureName': 'age_40-49', 'ValueAsString': '0'},\n",
       "    {'FeatureName': 'age_50-59', 'ValueAsString': '0'},\n",
       "    {'FeatureName': 'age_60-69', 'ValueAsString': '0'},\n",
       "    {'FeatureName': 'age_70-plus', 'ValueAsString': '0'},\n",
       "    {'FeatureName': 'n_days_active', 'ValueAsString': '0.9787671232876712'}]},\n",
       "  {'FeatureGroupName': 'customers-fg-06-13-17-50',\n",
       "   'RecordIdentifierValueAsString': 'C401',\n",
       "   'Record': [{'FeatureName': 'customer_id', 'ValueAsString': 'C401'},\n",
       "    {'FeatureName': 'sex', 'ValueAsString': '0'},\n",
       "    {'FeatureName': 'is_married', 'ValueAsString': '1'},\n",
       "    {'FeatureName': 'event_time', 'ValueAsString': '2024-05-02T05:39:11.218Z'},\n",
       "    {'FeatureName': 'age_18-29', 'ValueAsString': '0'},\n",
       "    {'FeatureName': 'age_30-39', 'ValueAsString': '0'},\n",
       "    {'FeatureName': 'age_40-49', 'ValueAsString': '0'},\n",
       "    {'FeatureName': 'age_50-59', 'ValueAsString': '0'},\n",
       "    {'FeatureName': 'age_60-69', 'ValueAsString': '0'},\n",
       "    {'FeatureName': 'age_70-plus', 'ValueAsString': '1'},\n",
       "    {'FeatureName': 'n_days_active', 'ValueAsString': '0.6130136986301371'}]},\n",
       "  {'FeatureGroupName': 'orders-fg-06-13-17-50',\n",
       "   'RecordIdentifierValueAsString': 'C400',\n",
       "   'Record': [{'FeatureName': 'order_id', 'ValueAsString': 'O84102'},\n",
       "    {'FeatureName': 'customer_id', 'ValueAsString': 'C400'},\n",
       "    {'FeatureName': 'product_id', 'ValueAsString': 'P8364'},\n",
       "    {'FeatureName': 'purchase_amount', 'ValueAsString': '0.9912871287128712'},\n",
       "    {'FeatureName': 'is_reordered', 'ValueAsString': '1'},\n",
       "    {'FeatureName': 'event_time', 'ValueAsString': '2024-05-02T03:53:41.809Z'},\n",
       "    {'FeatureName': 'n_days_since_last_purchase',\n",
       "     'ValueAsString': '0.6414728682170541'}]},\n",
       "  {'FeatureGroupName': 'orders-fg-06-13-17-50',\n",
       "   'RecordIdentifierValueAsString': 'C401',\n",
       "   'Record': [{'FeatureName': 'order_id', 'ValueAsString': 'O76667'},\n",
       "    {'FeatureName': 'customer_id', 'ValueAsString': 'C401'},\n",
       "    {'FeatureName': 'product_id', 'ValueAsString': 'P10445'},\n",
       "    {'FeatureName': 'purchase_amount', 'ValueAsString': '0.1443564356435643'},\n",
       "    {'FeatureName': 'is_reordered', 'ValueAsString': '1'},\n",
       "    {'FeatureName': 'event_time', 'ValueAsString': '2024-05-02T03:53:41.704Z'},\n",
       "    {'FeatureName': 'n_days_since_last_purchase',\n",
       "     'ValueAsString': '0.2151162790697673'}]}],\n",
       " 'Errors': [],\n",
       " 'UnprocessedIdentifiers': []}"
      ]
     },
     "execution_count": 22,
     "metadata": {},
     "output_type": "execute_result"
    }
   ],
   "source": [
    "# Batch retrieve records from both customer and order feature groups\n",
    "all_records = sagemaker_session.boto_session.client(\n",
    "    \"sagemaker-featurestore-runtime\", region_name=region\n",
    ").batch_get_record(\n",
    "    Identifiers=[\n",
    "        {\n",
    "            \"FeatureGroupName\": customers_feature_group_name,  # Name of the customer feature group\n",
    "            \"RecordIdentifiersValueAsString\": [\"C400\", \"C401\"],  # Customer IDs to retrieve\n",
    "        },\n",
    "        {\n",
    "            \"FeatureGroupName\": orders_feature_group_name,  # Name of the order feature group\n",
    "            \"RecordIdentifiersValueAsString\": [\"C400\", \"C401\"],  # Order IDs to retrieve\n",
    "        },\n",
    "    ]\n",
    ")\n",
    "\n",
    "# Display the retrieved records from both feature groups\n",
    "all_records"
   ]
  },
  {
   "cell_type": "markdown",
   "id": "eafe8b8f-9bbf-495d-90de-45dfb7c08fce",
   "metadata": {},
   "source": [
    "### Adding New Features to the Customer Feature Group"
   ]
  },
  {
   "cell_type": "code",
   "execution_count": 23,
   "id": "fb2aa816-daba-4fa4-b595-df9815ff9fc8",
   "metadata": {},
   "outputs": [
    {
     "data": {
      "text/plain": [
       "{'FeatureGroupArn': 'arn:aws:sagemaker:us-east-1:607119565685:feature-group/customers-fg-06-13-17-50',\n",
       " 'ResponseMetadata': {'RequestId': 'c7748102-f14a-419e-83c8-c4363ebb6a86',\n",
       "  'HTTPStatusCode': 200,\n",
       "  'HTTPHeaders': {'x-amzn-requestid': 'c7748102-f14a-419e-83c8-c4363ebb6a86',\n",
       "   'content-type': 'application/x-amz-json-1.1',\n",
       "   'content-length': '101',\n",
       "   'date': 'Wed, 06 Nov 2024 13:30:58 GMT'},\n",
       "  'RetryAttempts': 0}}"
      ]
     },
     "execution_count": 23,
     "metadata": {},
     "output_type": "execute_result"
    }
   ],
   "source": [
    "from sagemaker.feature_store.feature_definition import StringFeatureDefinition\n",
    "\n",
    "# Add a new feature 'email' to the customer feature group\n",
    "customers_feature_group.update(\n",
    "    feature_additions=[StringFeatureDefinition(\"email\")]  # Define the new feature as a string type\n",
    ")"
   ]
  },
  {
   "cell_type": "markdown",
   "id": "f8761b5b-f989-4d32-9cdf-3cad47e4029c",
   "metadata": {},
   "source": [
    "### Describing the Customer Feature Group After Updates"
   ]
  },
  {
   "cell_type": "code",
   "execution_count": 24,
   "id": "5bf42d9e-52e8-4e72-ad31-868ab994a58b",
   "metadata": {},
   "outputs": [
    {
     "data": {
      "text/plain": [
       "<bound method FeatureGroup.describe of FeatureGroup(name='customers-fg-06-13-17-50', sagemaker_session=<sagemaker.session.Session object at 0x7f43ea6a5710>, feature_definitions=[FeatureDefinition(feature_name='customer_id', feature_type=<FeatureTypeEnum.STRING: 'String'>, collection_type=None), FeatureDefinition(feature_name='sex', feature_type=<FeatureTypeEnum.INTEGRAL: 'Integral'>, collection_type=None), FeatureDefinition(feature_name='is_married', feature_type=<FeatureTypeEnum.INTEGRAL: 'Integral'>, collection_type=None), FeatureDefinition(feature_name='event_time', feature_type=<FeatureTypeEnum.STRING: 'String'>, collection_type=None), FeatureDefinition(feature_name='age_18-29', feature_type=<FeatureTypeEnum.INTEGRAL: 'Integral'>, collection_type=None), FeatureDefinition(feature_name='age_30-39', feature_type=<FeatureTypeEnum.INTEGRAL: 'Integral'>, collection_type=None), FeatureDefinition(feature_name='age_40-49', feature_type=<FeatureTypeEnum.INTEGRAL: 'Integral'>, collection_type=None), FeatureDefinition(feature_name='age_50-59', feature_type=<FeatureTypeEnum.INTEGRAL: 'Integral'>, collection_type=None), FeatureDefinition(feature_name='age_60-69', feature_type=<FeatureTypeEnum.INTEGRAL: 'Integral'>, collection_type=None), FeatureDefinition(feature_name='age_70-plus', feature_type=<FeatureTypeEnum.INTEGRAL: 'Integral'>, collection_type=None), FeatureDefinition(feature_name='n_days_active', feature_type=<FeatureTypeEnum.FRACTIONAL: 'Fractional'>, collection_type=None)])>"
      ]
     },
     "execution_count": 24,
     "metadata": {},
     "output_type": "execute_result"
    }
   ],
   "source": [
    "# Retrieve and display details of the customer feature group after adding new features\n",
    "customers_feature_group.describe"
   ]
  },
  {
   "cell_type": "markdown",
   "id": "d8b4a843-9490-45b3-aab7-682046bc55a9",
   "metadata": {},
   "source": [
    "### Loading and Displaying Updated Customer Data"
   ]
  },
  {
   "cell_type": "code",
   "execution_count": 25,
   "id": "f4021918-2c01-4eec-ad9d-679f62197eba",
   "metadata": {},
   "outputs": [
    {
     "data": {
      "text/html": [
       "<div>\n",
       "<style scoped>\n",
       "    .dataframe tbody tr th:only-of-type {\n",
       "        vertical-align: middle;\n",
       "    }\n",
       "\n",
       "    .dataframe tbody tr th {\n",
       "        vertical-align: top;\n",
       "    }\n",
       "\n",
       "    .dataframe thead th {\n",
       "        text-align: right;\n",
       "    }\n",
       "</style>\n",
       "<table border=\"1\" class=\"dataframe\">\n",
       "  <thead>\n",
       "    <tr style=\"text-align: right;\">\n",
       "      <th></th>\n",
       "      <th>customer_id</th>\n",
       "      <th>sex</th>\n",
       "      <th>is_married</th>\n",
       "      <th>event_time</th>\n",
       "      <th>email</th>\n",
       "      <th>age_18-29</th>\n",
       "      <th>age_30-39</th>\n",
       "      <th>age_40-49</th>\n",
       "      <th>age_50-59</th>\n",
       "      <th>age_60-69</th>\n",
       "      <th>age_70-plus</th>\n",
       "      <th>n_days_active</th>\n",
       "    </tr>\n",
       "  </thead>\n",
       "  <tbody>\n",
       "    <tr>\n",
       "      <th>0</th>\n",
       "      <td>C10001</td>\n",
       "      <td>0</td>\n",
       "      <td>1</td>\n",
       "      <td>2024-05-02T13:43:28.295Z</td>\n",
       "      <td>kennethday@example.net</td>\n",
       "      <td>0</td>\n",
       "      <td>0</td>\n",
       "      <td>0</td>\n",
       "      <td>0</td>\n",
       "      <td>0</td>\n",
       "      <td>1</td>\n",
       "      <td>0.345890</td>\n",
       "    </tr>\n",
       "    <tr>\n",
       "      <th>1</th>\n",
       "      <td>C10002</td>\n",
       "      <td>0</td>\n",
       "      <td>1</td>\n",
       "      <td>2024-05-02T13:43:28.296Z</td>\n",
       "      <td>smelendez@example.org</td>\n",
       "      <td>0</td>\n",
       "      <td>0</td>\n",
       "      <td>0</td>\n",
       "      <td>0</td>\n",
       "      <td>0</td>\n",
       "      <td>1</td>\n",
       "      <td>0.884247</td>\n",
       "    </tr>\n",
       "    <tr>\n",
       "      <th>2</th>\n",
       "      <td>C10003</td>\n",
       "      <td>1</td>\n",
       "      <td>0</td>\n",
       "      <td>2024-05-02T13:43:28.298Z</td>\n",
       "      <td>brianperry@example.net</td>\n",
       "      <td>0</td>\n",
       "      <td>1</td>\n",
       "      <td>0</td>\n",
       "      <td>0</td>\n",
       "      <td>0</td>\n",
       "      <td>0</td>\n",
       "      <td>0.734247</td>\n",
       "    </tr>\n",
       "    <tr>\n",
       "      <th>3</th>\n",
       "      <td>C10004</td>\n",
       "      <td>0</td>\n",
       "      <td>0</td>\n",
       "      <td>2024-05-02T13:43:28.300Z</td>\n",
       "      <td>alyssamorgan@example.net</td>\n",
       "      <td>0</td>\n",
       "      <td>0</td>\n",
       "      <td>0</td>\n",
       "      <td>0</td>\n",
       "      <td>1</td>\n",
       "      <td>0</td>\n",
       "      <td>0.386301</td>\n",
       "    </tr>\n",
       "    <tr>\n",
       "      <th>4</th>\n",
       "      <td>C10005</td>\n",
       "      <td>0</td>\n",
       "      <td>1</td>\n",
       "      <td>2024-05-02T13:43:28.301Z</td>\n",
       "      <td>cjenkins@example.org</td>\n",
       "      <td>0</td>\n",
       "      <td>0</td>\n",
       "      <td>0</td>\n",
       "      <td>0</td>\n",
       "      <td>1</td>\n",
       "      <td>0</td>\n",
       "      <td>0.363699</td>\n",
       "    </tr>\n",
       "  </tbody>\n",
       "</table>\n",
       "</div>"
      ],
      "text/plain": [
       "  customer_id  sex  is_married                event_time  \\\n",
       "0      C10001    0           1  2024-05-02T13:43:28.295Z   \n",
       "1      C10002    0           1  2024-05-02T13:43:28.296Z   \n",
       "2      C10003    1           0  2024-05-02T13:43:28.298Z   \n",
       "3      C10004    0           0  2024-05-02T13:43:28.300Z   \n",
       "4      C10005    0           1  2024-05-02T13:43:28.301Z   \n",
       "\n",
       "                      email  age_18-29  age_30-39  age_40-49  age_50-59  \\\n",
       "0    kennethday@example.net          0          0          0          0   \n",
       "1     smelendez@example.org          0          0          0          0   \n",
       "2    brianperry@example.net          0          1          0          0   \n",
       "3  alyssamorgan@example.net          0          0          0          0   \n",
       "4      cjenkins@example.org          0          0          0          0   \n",
       "\n",
       "   age_60-69  age_70-plus  n_days_active  \n",
       "0          0            1       0.345890  \n",
       "1          0            1       0.884247  \n",
       "2          0            0       0.734247  \n",
       "3          1            0       0.386301  \n",
       "4          1            0       0.363699  "
      ]
     },
     "execution_count": 25,
     "metadata": {},
     "output_type": "execute_result"
    }
   ],
   "source": [
    "# Load the updated customer data from CSV file\n",
    "customer_data_updated = pd.read_csv(\"customers_updated.csv\")\n",
    "\n",
    "# Display the first five rows of the updated customer data DataFrame\n",
    "customer_data_updated.head()"
   ]
  },
  {
   "cell_type": "markdown",
   "id": "e1037cdb-41cc-4c44-9bb1-12970e873be2",
   "metadata": {},
   "source": [
    "### Describing the Customer Feature Group to Verify Structure"
   ]
  },
  {
   "cell_type": "code",
   "execution_count": 26,
   "id": "e00c7c26-dfa2-43f1-a7f3-9244ff1e8268",
   "metadata": {},
   "outputs": [
    {
     "data": {
      "text/plain": [
       "{'FeatureGroupArn': 'arn:aws:sagemaker:us-east-1:607119565685:feature-group/customers-fg-06-13-17-50',\n",
       " 'FeatureGroupName': 'customers-fg-06-13-17-50',\n",
       " 'RecordIdentifierFeatureName': 'customer_id',\n",
       " 'EventTimeFeatureName': 'event_time',\n",
       " 'FeatureDefinitions': [{'FeatureName': 'customer_id',\n",
       "   'FeatureType': 'String'},\n",
       "  {'FeatureName': 'sex', 'FeatureType': 'Integral'},\n",
       "  {'FeatureName': 'is_married', 'FeatureType': 'Integral'},\n",
       "  {'FeatureName': 'event_time', 'FeatureType': 'String'},\n",
       "  {'FeatureName': 'age_18-29', 'FeatureType': 'Integral'},\n",
       "  {'FeatureName': 'age_30-39', 'FeatureType': 'Integral'},\n",
       "  {'FeatureName': 'age_40-49', 'FeatureType': 'Integral'},\n",
       "  {'FeatureName': 'age_50-59', 'FeatureType': 'Integral'},\n",
       "  {'FeatureName': 'age_60-69', 'FeatureType': 'Integral'},\n",
       "  {'FeatureName': 'age_70-plus', 'FeatureType': 'Integral'},\n",
       "  {'FeatureName': 'n_days_active', 'FeatureType': 'Fractional'},\n",
       "  {'FeatureName': 'email', 'FeatureType': 'String'}],\n",
       " 'CreationTime': datetime.datetime(2024, 11, 6, 13, 17, 59, 343000, tzinfo=tzlocal()),\n",
       " 'LastModifiedTime': datetime.datetime(2024, 11, 6, 13, 30, 58, 810000, tzinfo=tzlocal()),\n",
       " 'OnlineStoreConfig': {'EnableOnlineStore': True},\n",
       " 'OfflineStoreConfig': {'S3StorageConfig': {'S3Uri': 's3://sagemaker-us-east-1-607119565685/aws-mlops-sagemaker',\n",
       "   'ResolvedOutputS3Uri': 's3://sagemaker-us-east-1-607119565685/aws-mlops-sagemaker/607119565685/sagemaker/us-east-1/offline-store/customers-fg-06-13-17-50-1730899079/data'},\n",
       "  'DisableGlueTableCreation': False,\n",
       "  'DataCatalogConfig': {'TableName': 'customers_fg_06_13_17_50_1730899079',\n",
       "   'Catalog': 'AwsDataCatalog',\n",
       "   'Database': 'sagemaker_featurestore'}},\n",
       " 'ThroughputConfig': {'ThroughputMode': 'OnDemand'},\n",
       " 'RoleArn': 'arn:aws:iam::607119565685:role/LearnMlOpsSageMakerExecutionRole',\n",
       " 'FeatureGroupStatus': 'Created',\n",
       " 'OfflineStoreStatus': {'Status': 'Active'},\n",
       " 'LastUpdateStatus': {'Status': 'Successful'},\n",
       " 'OnlineStoreTotalSizeBytes': 0,\n",
       " 'ResponseMetadata': {'RequestId': '83134e8f-4390-40dd-b438-aaad6d629466',\n",
       "  'HTTPStatusCode': 200,\n",
       "  'HTTPHeaders': {'x-amzn-requestid': '83134e8f-4390-40dd-b438-aaad6d629466',\n",
       "   'content-type': 'application/x-amz-json-1.1',\n",
       "   'content-length': '2170',\n",
       "   'date': 'Wed, 06 Nov 2024 13:31:24 GMT'},\n",
       "  'RetryAttempts': 0}}"
      ]
     },
     "execution_count": 26,
     "metadata": {},
     "output_type": "execute_result"
    }
   ],
   "source": [
    "# Retrieve and display the current metadata and schema of the customer feature group\n",
    "customers_feature_group.describe()"
   ]
  },
  {
   "cell_type": "code",
   "execution_count": 27,
   "id": "f658ddae-c4c1-40c7-9567-a1e79c532006",
   "metadata": {},
   "outputs": [
    {
     "data": {
      "text/plain": [
       "Index(['customer_id', 'sex', 'is_married', 'event_time', 'email', 'age_18-29',\n",
       "       'age_30-39', 'age_40-49', 'age_50-59', 'age_60-69', 'age_70-plus',\n",
       "       'n_days_active'],\n",
       "      dtype='object')"
      ]
     },
     "execution_count": 27,
     "metadata": {},
     "output_type": "execute_result"
    }
   ],
   "source": [
    "# Display the column names of the updated customer data DataFrame\n",
    "customer_data_updated.columns"
   ]
  },
  {
   "cell_type": "markdown",
   "id": "c5500013-567e-4cff-ba81-cb3fac24a620",
   "metadata": {},
   "source": [
    "### Ingesting Updated Customer Data into the Feature Group"
   ]
  },
  {
   "cell_type": "code",
   "execution_count": 28,
   "id": "6c33acc6-e926-423a-9182-be5d57db66c5",
   "metadata": {},
   "outputs": [
    {
     "data": {
      "text/plain": [
       "IngestionManagerPandas(feature_group_name='customers-fg-06-13-17-50', feature_definitions={'customer_id': {'FeatureName': 'customer_id', 'FeatureType': 'String'}, 'sex': {'FeatureName': 'sex', 'FeatureType': 'Integral'}, 'is_married': {'FeatureName': 'is_married', 'FeatureType': 'Integral'}, 'event_time': {'FeatureName': 'event_time', 'FeatureType': 'String'}, 'age_18-29': {'FeatureName': 'age_18-29', 'FeatureType': 'Integral'}, 'age_30-39': {'FeatureName': 'age_30-39', 'FeatureType': 'Integral'}, 'age_40-49': {'FeatureName': 'age_40-49', 'FeatureType': 'Integral'}, 'age_50-59': {'FeatureName': 'age_50-59', 'FeatureType': 'Integral'}, 'age_60-69': {'FeatureName': 'age_60-69', 'FeatureType': 'Integral'}, 'age_70-plus': {'FeatureName': 'age_70-plus', 'FeatureType': 'Integral'}, 'n_days_active': {'FeatureName': 'n_days_active', 'FeatureType': 'Fractional'}, 'email': {'FeatureName': 'email', 'FeatureType': 'String'}}, sagemaker_fs_runtime_client_config=<botocore.config.Config object at 0x7f43e9bbbb10>, sagemaker_session=<sagemaker.session.Session object at 0x7f43ea6a5710>, max_workers=3, max_processes=1, profile_name=None, _async_result=<multiprocess.pool.MapResult object at 0x7f43e77f66d0>, _processing_pool=<pool ProcessPool(ncpus=1)>, _failed_indices=[])"
      ]
     },
     "execution_count": 28,
     "metadata": {},
     "output_type": "execute_result"
    }
   ],
   "source": [
    "# Ingest the updated customer data into the customer feature group\n",
    "customers_feature_group.ingest(\n",
    "    data_frame=customer_data_updated,  # DataFrame containing the updated customer data\n",
    "    max_workers=3,  # Maximum number of concurrent workers to use for ingestion\n",
    "    wait=True  # Wait for the ingestion process to complete before proceeding\n",
    ")"
   ]
  },
  {
   "cell_type": "markdown",
   "id": "b695c0bb-2e4b-4f04-b3e9-31d1ade28949",
   "metadata": {},
   "source": [
    "### Retrieving a Sample Record from the Customer Feature Group"
   ]
  },
  {
   "cell_type": "code",
   "execution_count": 29,
   "id": "9ff133f0-1089-4970-9e3e-1cb917601e4c",
   "metadata": {},
   "outputs": [
    {
     "data": {
      "text/plain": [
       "{'ResponseMetadata': {'RequestId': '03b1bf4b-59f4-4610-80b8-d93835b2489b',\n",
       "  'HTTPStatusCode': 200,\n",
       "  'HTTPHeaders': {'x-amzn-requestid': '03b1bf4b-59f4-4610-80b8-d93835b2489b',\n",
       "   'content-type': 'application/json',\n",
       "   'content-length': '880',\n",
       "   'date': 'Wed, 06 Nov 2024 13:32:09 GMT'},\n",
       "  'RetryAttempts': 0},\n",
       " 'Record': [{'FeatureName': 'customer_id', 'ValueAsString': 'C10001'},\n",
       "  {'FeatureName': 'sex', 'ValueAsString': '0'},\n",
       "  {'FeatureName': 'is_married', 'ValueAsString': '1'},\n",
       "  {'FeatureName': 'event_time', 'ValueAsString': '2024-05-02T13:43:28.295Z'},\n",
       "  {'FeatureName': 'age_18-29', 'ValueAsString': '0'},\n",
       "  {'FeatureName': 'age_30-39', 'ValueAsString': '0'},\n",
       "  {'FeatureName': 'age_40-49', 'ValueAsString': '0'},\n",
       "  {'FeatureName': 'age_50-59', 'ValueAsString': '0'},\n",
       "  {'FeatureName': 'age_60-69', 'ValueAsString': '0'},\n",
       "  {'FeatureName': 'age_70-plus', 'ValueAsString': '1'},\n",
       "  {'FeatureName': 'n_days_active', 'ValueAsString': '0.345890410958904'}]}"
      ]
     },
     "execution_count": 29,
     "metadata": {},
     "output_type": "execute_result"
    }
   ],
   "source": [
    "# Define the customer ID for which to retrieve the record\n",
    "customer_id = \"C10001\"\n",
    "\n",
    "# Retrieve a sample record from the customer feature group using the specified customer ID\n",
    "sample_record = sagemaker_session.boto_session.client(\n",
    "    \"sagemaker-featurestore-runtime\", region_name=region\n",
    ").get_record(\n",
    "    FeatureGroupName=customers_feature_group_name,  # Name of the feature group\n",
    "    RecordIdentifierValueAsString=str(customer_id)  # Customer ID to identify the record\n",
    ")\n",
    "\n",
    "# Display the retrieved sample record\n",
    "sample_record"
   ]
  },
  {
   "cell_type": "code",
   "execution_count": null,
   "id": "88b44362-d8e5-4ef7-a9e7-3728e773e604",
   "metadata": {},
   "outputs": [],
   "source": []
  }
 ],
 "metadata": {
  "kernelspec": {
   "display_name": "Python 3 (ipykernel)",
   "language": "python",
   "name": "python3"
  },
  "language_info": {
   "codemirror_mode": {
    "name": "ipython",
    "version": 3
   },
   "file_extension": ".py",
   "mimetype": "text/x-python",
   "name": "python",
   "nbconvert_exporter": "python",
   "pygments_lexer": "ipython3",
   "version": "3.11.10"
  }
 },
 "nbformat": 4,
 "nbformat_minor": 5
}
