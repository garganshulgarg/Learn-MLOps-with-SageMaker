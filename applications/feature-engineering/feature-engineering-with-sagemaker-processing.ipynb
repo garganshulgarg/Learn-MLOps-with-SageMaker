{
 "cells": [
  {
   "cell_type": "markdown",
   "id": "a386b8a9-d173-4a3f-8a8f-d736b45845db",
   "metadata": {},
   "source": [
    "# Learning Journey  : Feature Engineering with Sagemaker Processing"
   ]
  },
  {
   "cell_type": "markdown",
   "id": "d0713869-14c5-4b60-8d00-48847e202652",
   "metadata": {},
   "source": [
    "### Load the data to S3 bucket"
   ]
  },
  {
   "cell_type": "code",
   "execution_count": 5,
   "id": "6746f2a9-4b20-46af-a5e1-096b27c97cd2",
   "metadata": {},
   "outputs": [
    {
     "data": {
      "text/plain": [
       "'s3://sagemaker-us-east-1-607119565685/mlops/sagemaker-processing-activity/input_data/bank-additional-full.csv'"
      ]
     },
     "execution_count": 5,
     "metadata": {},
     "output_type": "execute_result"
    }
   ],
   "source": [
    "# Upload to S3 Bucket\n",
    "from sagemaker import Session\n",
    "import sagemaker\n",
    "bucket=sagemaker.Session().default_bucket()\n",
    "prefix = 'mlops/sagemaker-processing-activity'\n",
    "\n",
    "sess = Session()\n",
    "input_source = sess.upload_data('./bank-additional-full.csv', bucket=bucket, key_prefix=f'{prefix}/input_data')\n",
    "input_source"
   ]
  },
  {
   "cell_type": "markdown",
   "id": "c4793778-8ba3-420b-b338-a787738d0338",
   "metadata": {},
   "source": [
    "### Define the IAM Role."
   ]
  },
  {
   "cell_type": "code",
   "execution_count": 8,
   "id": "c5714b86-db17-41c1-bd78-64b29eb4b62d",
   "metadata": {},
   "outputs": [
    {
     "data": {
      "text/plain": [
       "'arn:aws:iam::607119565685:role/LearnMlOpsSageMakerExecutionRole'"
      ]
     },
     "execution_count": 8,
     "metadata": {},
     "output_type": "execute_result"
    }
   ],
   "source": [
    "# Define IAM role\n",
    "import boto3\n",
    "import re\n",
    "from sagemaker import get_execution_role\n",
    "\n",
    "role = get_execution_role()\n",
    "role"
   ]
  },
  {
   "cell_type": "markdown",
   "id": "b19d3be7-514a-4b43-9918-bc15ba95bc52",
   "metadata": {},
   "source": [
    "### Fetch Preprocessing Script"
   ]
  },
  {
   "cell_type": "code",
   "execution_count": 16,
   "id": "f92247df-566a-4716-8660-f210c94e2c95",
   "metadata": {},
   "outputs": [
    {
     "name": "stdout",
     "output_type": "stream",
     "text": [
      "--2024-11-04 15:14:33--  https://raw.githubusercontent.com/garganshulgarg/learn-mlops-with-sagemaker/refs/heads/feature-engg-sagemaker-processing/applications/feature-engineering/feature-engg-script.py\n",
      "Resolving raw.githubusercontent.com (raw.githubusercontent.com)... 185.199.108.133, 185.199.109.133, 185.199.111.133, ...\n",
      "Connecting to raw.githubusercontent.com (raw.githubusercontent.com)|185.199.108.133|:443... connected.\n",
      "WARNING: cannot verify raw.githubusercontent.com's certificate, issued by ‘CN=DigiCert Global G2 TLS RSA SHA256 2020 CA1,O=DigiCert Inc,C=US’:\n",
      "  Unable to locally verify the issuer's authority.\n",
      "HTTP request sent, awaiting response... 200 OK\n",
      "Length: 3285 (3.2K) [text/plain]\n",
      "Saving to: ‘feature-engg-script.py’\n",
      "\n",
      "feature-engg-script 100%[===================>]   3.21K  --.-KB/s    in 0s      \n",
      "\n",
      "2024-11-04 15:14:33 (46.7 MB/s) - ‘feature-engg-script.py’ saved [3285/3285]\n",
      "\n"
     ]
    }
   ],
   "source": [
    "!wget --no-check-certificate https://raw.githubusercontent.com/garganshulgarg/learn-mlops-with-sagemaker/refs/heads/main/applications/feature-engineering/feature-engg-script.py"
   ]
  },
  {
   "cell_type": "code",
   "execution_count": 17,
   "id": "5ed08dd3-996e-4623-80f2-743e5b3bad1e",
   "metadata": {},
   "outputs": [],
   "source": [
    "train_path = f\"s3://{bucket}/{prefix}/train\"\n",
    "validation_path = f\"s3://{bucket}/{prefix}/validation\"\n",
    "test_path = f\"s3://{bucket}/{prefix}/test\""
   ]
  },
  {
   "cell_type": "code",
   "execution_count": 18,
   "id": "3274f0ad-85da-41e5-bd4d-38356b0ee67a",
   "metadata": {},
   "outputs": [
    {
     "name": "stderr",
     "output_type": "stream",
     "text": [
      "INFO:sagemaker.image_uris:Defaulting to only available Python version: py3\n",
      "INFO:sagemaker:Creating processing-job with name mlops-sklearnprocessing-2024-11-04-15-14-49-941\n"
     ]
    },
    {
     "name": "stdout",
     "output_type": "stream",
     "text": [
      "...........\u001b[34m## Processing completed. Exiting.\u001b[0m\n",
      "\n"
     ]
    }
   ],
   "source": [
    "from sagemaker.sklearn.processing import SKLearnProcessor\n",
    "from sagemaker.processing import ProcessingInput, ProcessingOutput\n",
    "from sagemaker import get_execution_role\n",
    "\n",
    "\n",
    "sklearn_processor = SKLearnProcessor(\n",
    "    framework_version=\"0.23-1\",\n",
    "    role=get_execution_role(),\n",
    "    instance_type=\"ml.m5.large\",\n",
    "    instance_count=1, \n",
    "    base_job_name='mlops-sklearnprocessing'\n",
    ")\n",
    "\n",
    "sklearn_processor.run(\n",
    "    code='feature-engg-script.py',\n",
    "    # arguments = ['arg1', 'arg2'],\n",
    "    inputs=[\n",
    "        ProcessingInput(\n",
    "            source=input_source, \n",
    "            destination=\"/opt/ml/processing/input\",\n",
    "            s3_input_mode=\"File\",\n",
    "            s3_data_distribution_type=\"ShardedByS3Key\"\n",
    "        )\n",
    "    ],\n",
    "    outputs=[\n",
    "        ProcessingOutput(\n",
    "            output_name=\"train_data\", \n",
    "            source=\"/opt/ml/processing/output/train\",\n",
    "            destination=train_path,\n",
    "        ),\n",
    "        ProcessingOutput(output_name=\"validation_data\", source=\"/opt/ml/processing/output/validation\", destination=validation_path),\n",
    "        ProcessingOutput(output_name=\"test_data\", source=\"/opt/ml/processing/output/test\", destination=test_path),\n",
    "    ]\n",
    ")"
   ]
  },
  {
   "cell_type": "markdown",
   "id": "f3d4b4c2-6bbd-4911-bd60-0f7ffb18262c",
   "metadata": {},
   "source": [
    "### Validate the processed data"
   ]
  },
  {
   "cell_type": "code",
   "execution_count": 19,
   "id": "b2cbbfed-7409-44b3-ab33-a3ddf2b90755",
   "metadata": {},
   "outputs": [
    {
     "name": "stdout",
     "output_type": "stream",
     "text": [
      "2024-11-04 15:16:54    3545009 train_script.csv\n"
     ]
    }
   ],
   "source": [
    "!aws s3 ls $train_path/"
   ]
  },
  {
   "cell_type": "code",
   "execution_count": 20,
   "id": "4ce666bc-f724-4c7e-b45d-29f6958367b5",
   "metadata": {},
   "outputs": [
    {
     "name": "stdout",
     "output_type": "stream",
     "text": [
      "2024-11-04 15:16:54     498229 test_script_x.csv\n",
      "2024-11-04 15:16:54       8238 test_script_y.csv\n"
     ]
    }
   ],
   "source": [
    "!aws s3 ls $test_path/"
   ]
  },
  {
   "cell_type": "code",
   "execution_count": null,
   "id": "d76cc413-0a78-4a1c-8093-786b398cb9b1",
   "metadata": {},
   "outputs": [],
   "source": []
  }
 ],
 "metadata": {
  "kernelspec": {
   "display_name": "Python 3 (ipykernel)",
   "language": "python",
   "name": "python3"
  },
  "language_info": {
   "codemirror_mode": {
    "name": "ipython",
    "version": 3
   },
   "file_extension": ".py",
   "mimetype": "text/x-python",
   "name": "python",
   "nbconvert_exporter": "python",
   "pygments_lexer": "ipython3",
   "version": "3.11.9"
  }
 },
 "nbformat": 4,
 "nbformat_minor": 5
}
